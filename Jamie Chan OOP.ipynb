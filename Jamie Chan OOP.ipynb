{
 "cells": [
  {
   "cell_type": "code",
   "execution_count": 21,
   "id": "a497407e",
   "metadata": {},
   "outputs": [],
   "source": [
    "# Создание собственного класса\n",
    "'''\n",
    "class MyClass:\n",
    "    содержимое класса\n",
    "'''\n",
    "\n",
    "class Staff:\n",
    "    def __init__(self, pPosition, pName, pPay):\n",
    "        self.position = pPosition\n",
    "        self.name = pName\n",
    "        self.pay = pPay\n",
    "        print('Создание Staff(Персонал) объекта')\n",
    "        \n",
    "    def __str__(self):\n",
    "        return 'Позиция = %s, Имя = %s, Выплата = %d' %(self.position, self.name, self.pay)\n",
    "        \n",
    "    def calculatePay(self):\n",
    "        prompt = '\\nВведите число рабочих часов за неделю для %s:' %(self.name)\n",
    "        hours = input(prompt)\n",
    "        prompt = '\\nВведите стоимость часа для %s:' %(self.name)\n",
    "        hourlyRate = input(prompt)\n",
    "        self.pay = int(hours) * int(hourlyRate)\n",
    "        return self.pay\n"
   ]
  },
  {
   "cell_type": "code",
   "execution_count": 22,
   "id": "20bef571",
   "metadata": {},
   "outputs": [
    {
     "name": "stdout",
     "output_type": "stream",
     "text": [
      "Создание Staff(Персонал) объекта\n"
     ]
    }
   ],
   "source": [
    "# Создание экземрляра класса\n",
    "\n",
    "officeStaff = Staff('Сотрудник', 'Максим', 0)"
   ]
  },
  {
   "cell_type": "code",
   "execution_count": 23,
   "id": "bf3fdb97",
   "metadata": {},
   "outputs": [
    {
     "name": "stdout",
     "output_type": "stream",
     "text": [
      "Максим\n"
     ]
    },
    {
     "data": {
      "text/plain": [
       "'Сотрудник'"
      ]
     },
     "execution_count": 23,
     "metadata": {},
     "output_type": "execute_result"
    }
   ],
   "source": [
    "# officeStaff.name\n",
    "print(officeStaff.name)\n",
    "officeStaff.position"
   ]
  },
  {
   "cell_type": "code",
   "execution_count": 24,
   "id": "38f59311",
   "metadata": {},
   "outputs": [
    {
     "data": {
      "text/plain": [
       "'Manager'"
      ]
     },
     "execution_count": 24,
     "metadata": {},
     "output_type": "execute_result"
    }
   ],
   "source": [
    "officeStaff.position = 'Manager'\n",
    "officeStaff.position"
   ]
  },
  {
   "cell_type": "code",
   "execution_count": 25,
   "id": "292b8cd8",
   "metadata": {},
   "outputs": [
    {
     "data": {
      "text/plain": [
       "0"
      ]
     },
     "execution_count": 25,
     "metadata": {},
     "output_type": "execute_result"
    }
   ],
   "source": [
    "officeStaff.pay"
   ]
  },
  {
   "cell_type": "code",
   "execution_count": null,
   "id": "e85a3590",
   "metadata": {},
   "outputs": [],
   "source": [
    "# Использование метода calculatePay()\n",
    "\n",
    "officeStaff.calculatePay()"
   ]
  },
  {
   "cell_type": "code",
   "execution_count": 27,
   "id": "3424bd34",
   "metadata": {},
   "outputs": [
    {
     "data": {
      "text/plain": [
       "16000"
      ]
     },
     "execution_count": 27,
     "metadata": {},
     "output_type": "execute_result"
    }
   ],
   "source": [
    "officeStaff.pay"
   ]
  },
  {
   "cell_type": "code",
   "execution_count": 28,
   "id": "ce30d3f3",
   "metadata": {},
   "outputs": [
    {
     "name": "stdout",
     "output_type": "stream",
     "text": [
      "Позиция = Manager, Имя = Максим, Выплата = 16000\n"
     ]
    }
   ],
   "source": [
    "print(officeStaff)"
   ]
  },
  {
   "cell_type": "code",
   "execution_count": 10,
   "id": "dfe4de75",
   "metadata": {},
   "outputs": [],
   "source": [
    "# Во избежания обращения к переменным напрямую следут спользовать свойства,\n",
    "# переменную следует начинать со знака _ (1 нижнее подчеркивание) - соглашение\n",
    "# Сигнал для убеждения программистов не изменять пременную напрямую, перед именем поставить __ \n",
    "# (2 нижних подчеркивания) - тоже соглашение!!\n",
    "\n",
    "class StaffNew:\n",
    "    def __init__(self, pPosition, pName, pPay):\n",
    "        self._position = pPosition              \n",
    "        self.name = pName\n",
    "        self.pay = pPay    \n",
    "        print('Создание StaffNew(Персонал) объекта')\n",
    "        \n",
    "    def __str__(self):\n",
    "        return 'Позиция = %s, Имя = %s, Выплата = %d' %(self._position, self.name, self.pay)\n",
    "                \n",
    "    def calculatePay(self):\n",
    "        prompt = '\\nВведите число рабочих часов за неделю для %s: ' %(self.name)\n",
    "        hours = input(prompt)\n",
    "        prompt = '\\nВведите стоимость часа для %s: ' %(self.name)\n",
    "        hourlyRate = input(prompt)\n",
    "        self.pay = int(hours) * int(hourlyRate)\n",
    "        return self.pay\n",
    "\n",
    "    @property\n",
    "    def position(self):\n",
    "        print('Getter Method')\n",
    "        return self._position\n",
    "        \n",
    "    @position.setter\n",
    "    def position(self, value):\n",
    "        if value == 'Менеджер' or value == 'Специалист':\n",
    "            self._position = value\n",
    "        else:\n",
    "            print('Такой позиции не существует!')"
   ]
  },
  {
   "cell_type": "code",
   "execution_count": 11,
   "id": "a7083ae8",
   "metadata": {},
   "outputs": [
    {
     "name": "stdout",
     "output_type": "stream",
     "text": [
      "Создание StaffNew(Персонал) объекта\n"
     ]
    }
   ],
   "source": [
    "officeStaffNew = StaffNew('Спешл', 'Макс', 0)"
   ]
  },
  {
   "cell_type": "code",
   "execution_count": 12,
   "id": "6715f1dc",
   "metadata": {},
   "outputs": [
    {
     "data": {
      "text/plain": [
       "'Макс'"
      ]
     },
     "execution_count": 12,
     "metadata": {},
     "output_type": "execute_result"
    }
   ],
   "source": [
    "officeStaffNew.name"
   ]
  },
  {
   "cell_type": "code",
   "execution_count": 13,
   "id": "aafe951d",
   "metadata": {},
   "outputs": [
    {
     "name": "stdout",
     "output_type": "stream",
     "text": [
      "Позиция = Спешл, Имя = Макс, Выплата = 0\n"
     ]
    }
   ],
   "source": [
    "print(officeStaffNew)"
   ]
  },
  {
   "cell_type": "code",
   "execution_count": 14,
   "id": "a1d32d65",
   "metadata": {},
   "outputs": [
    {
     "name": "stdout",
     "output_type": "stream",
     "text": [
      "Такой позиции не существует!\n"
     ]
    }
   ],
   "source": [
    "officeStaffNew.position = 'Рабочий'"
   ]
  },
  {
   "cell_type": "code",
   "execution_count": 15,
   "id": "205c3cbe",
   "metadata": {},
   "outputs": [
    {
     "name": "stdout",
     "output_type": "stream",
     "text": [
      "Getter Method\n"
     ]
    },
    {
     "data": {
      "text/plain": [
       "'Спешл'"
      ]
     },
     "execution_count": 15,
     "metadata": {},
     "output_type": "execute_result"
    }
   ],
   "source": [
    "officeStaffNew.position"
   ]
  },
  {
   "cell_type": "code",
   "execution_count": 16,
   "id": "46667ee9",
   "metadata": {},
   "outputs": [
    {
     "name": "stdout",
     "output_type": "stream",
     "text": [
      "\n",
      "Введите число рабочих часов за неделю для Макс: 40\n",
      "\n",
      "Введите стоимость часа для Макс: 500\n"
     ]
    },
    {
     "data": {
      "text/plain": [
       "20000"
      ]
     },
     "execution_count": 16,
     "metadata": {},
     "output_type": "execute_result"
    }
   ],
   "source": [
    "officeStaffNew.calculatePay()"
   ]
  },
  {
   "cell_type": "code",
   "execution_count": 17,
   "id": "8ed9b4c7",
   "metadata": {},
   "outputs": [],
   "source": [
    "officeStaffNew.position = 'Специалист'"
   ]
  },
  {
   "cell_type": "code",
   "execution_count": 18,
   "id": "9822c033",
   "metadata": {},
   "outputs": [
    {
     "name": "stdout",
     "output_type": "stream",
     "text": [
      "Getter Method\n"
     ]
    },
    {
     "data": {
      "text/plain": [
       "'Специалист'"
      ]
     },
     "execution_count": 18,
     "metadata": {},
     "output_type": "execute_result"
    }
   ],
   "source": [
    "officeStaffNew.position"
   ]
  },
  {
   "cell_type": "code",
   "execution_count": 19,
   "id": "b57416ee",
   "metadata": {},
   "outputs": [],
   "source": [
    "# Корректировка имен ( __ двойное подчеркивание)\n",
    "\n",
    "class A:\n",
    "    def __init__(self):\n",
    "        self.__x = 5\n",
    "        self._y = 6"
   ]
  },
  {
   "cell_type": "code",
   "execution_count": 20,
   "id": "7dddbc42",
   "metadata": {},
   "outputs": [],
   "source": [
    "varA = A()"
   ]
  },
  {
   "cell_type": "code",
   "execution_count": 21,
   "id": "cb10b9aa",
   "metadata": {},
   "outputs": [
    {
     "data": {
      "text/plain": [
       "6"
      ]
     },
     "execution_count": 21,
     "metadata": {},
     "output_type": "execute_result"
    }
   ],
   "source": [
    "varA._y"
   ]
  },
  {
   "cell_type": "code",
   "execution_count": 23,
   "id": "25fa7e0a",
   "metadata": {},
   "outputs": [
    {
     "ename": "AttributeError",
     "evalue": "'A' object has no attribute '_x'",
     "output_type": "error",
     "traceback": [
      "\u001b[1;31m---------------------------------------------------------------------------\u001b[0m",
      "\u001b[1;31mAttributeError\u001b[0m                            Traceback (most recent call last)",
      "Input \u001b[1;32mIn [23]\u001b[0m, in \u001b[0;36m<cell line: 1>\u001b[1;34m()\u001b[0m\n\u001b[1;32m----> 1\u001b[0m \u001b[43mvarA\u001b[49m\u001b[38;5;241;43m.\u001b[39;49m\u001b[43m_x\u001b[49m\n",
      "\u001b[1;31mAttributeError\u001b[0m: 'A' object has no attribute '_x'"
     ]
    }
   ],
   "source": [
    "varA._x # ошибка"
   ]
  },
  {
   "cell_type": "code",
   "execution_count": 25,
   "id": "02b0afba",
   "metadata": {},
   "outputs": [
    {
     "data": {
      "text/plain": [
       "5"
      ]
     },
     "execution_count": 25,
     "metadata": {},
     "output_type": "execute_result"
    }
   ],
   "source": [
    "varA._A__x # обход ошибки, но так делать не следует!"
   ]
  },
  {
   "cell_type": "code",
   "execution_count": 56,
   "id": "0d06bf02",
   "metadata": {},
   "outputs": [],
   "source": [
    "# Демонстрация/разница переменной класса и переменной экземпляра класса\n",
    "\n",
    "class ProgStaff:\n",
    "    companyName = 'Школа программирования'\n",
    "    \n",
    "    def __init__(self, pSalary):\n",
    "        self.salary = pSalary\n",
    "        \n",
    "    def printInfo(self):\n",
    "        print('Компания называется ', ProgStaff.companyName)\n",
    "        print('Зарплата составляет ', self.salary)\n",
    "        \n",
    "peter = ProgStaff(2500)\n",
    "john = ProgStaff(2500)"
   ]
  },
  {
   "cell_type": "code",
   "execution_count": 57,
   "id": "9533e629",
   "metadata": {},
   "outputs": [
    {
     "name": "stdout",
     "output_type": "stream",
     "text": [
      "2500\n",
      "2500\n"
     ]
    }
   ],
   "source": [
    "print(peter.salary)\n",
    "print(john.salary)"
   ]
  },
  {
   "cell_type": "code",
   "execution_count": 50,
   "id": "ebcfbc31",
   "metadata": {},
   "outputs": [],
   "source": [
    "ProgStaff.companyName = 'Лаборатория программирования'"
   ]
  },
  {
   "cell_type": "code",
   "execution_count": 51,
   "id": "027b34ed",
   "metadata": {},
   "outputs": [
    {
     "data": {
      "text/plain": [
       "'Лаборатория программирования'"
      ]
     },
     "execution_count": 51,
     "metadata": {},
     "output_type": "execute_result"
    }
   ],
   "source": [
    "ProgStaff.companyName"
   ]
  },
  {
   "cell_type": "code",
   "execution_count": 52,
   "id": "dadb71eb",
   "metadata": {},
   "outputs": [
    {
     "name": "stdout",
     "output_type": "stream",
     "text": [
      "Лаборатория программирования\n",
      "Лаборатория программирования\n"
     ]
    }
   ],
   "source": [
    "print(peter.companyName)\n",
    "print(john.companyName)"
   ]
  },
  {
   "cell_type": "code",
   "execution_count": 59,
   "id": "c5181da2",
   "metadata": {},
   "outputs": [],
   "source": [
    "peter.salary = 2700"
   ]
  },
  {
   "cell_type": "code",
   "execution_count": 60,
   "id": "e951e889",
   "metadata": {},
   "outputs": [
    {
     "name": "stdout",
     "output_type": "stream",
     "text": [
      "2700\n",
      "2500\n"
     ]
    }
   ],
   "source": [
    "print(peter.salary)\n",
    "print(john.salary)"
   ]
  },
  {
   "cell_type": "code",
   "execution_count": 61,
   "id": "e53a4ee7",
   "metadata": {},
   "outputs": [
    {
     "name": "stdout",
     "output_type": "stream",
     "text": [
      "Компания называется  Школа программирования\n",
      "Зарплата составляет  2500\n"
     ]
    }
   ],
   "source": [
    "john.printInfo()"
   ]
  },
  {
   "cell_type": "code",
   "execution_count": 62,
   "id": "f1f9d4cb",
   "metadata": {},
   "outputs": [
    {
     "name": "stdout",
     "output_type": "stream",
     "text": [
      "Компания называется  Школа программирования\n",
      "Зарплата составляет  2500\n"
     ]
    }
   ],
   "source": [
    "ProgStaff.printInfo(john)"
   ]
  },
  {
   "cell_type": "code",
   "execution_count": null,
   "id": "f77fbd10",
   "metadata": {},
   "outputs": [],
   "source": []
  }
 ],
 "metadata": {
  "kernelspec": {
<<<<<<< HEAD
   "display_name": "Python 3",
=======
   "display_name": "Python 3 (ipykernel)",
>>>>>>> 3bb190e33fd2c89e30fe2bea226a8ca5123674db
   "language": "python",
   "name": "python3"
  },
  "language_info": {
   "codemirror_mode": {
    "name": "ipython",
    "version": 3
   },
   "file_extension": ".py",
   "mimetype": "text/x-python",
   "name": "python",
   "nbconvert_exporter": "python",
   "pygments_lexer": "ipython3",
<<<<<<< HEAD
   "version": "3.8.10"
=======
   "version": "3.10.0"
>>>>>>> 3bb190e33fd2c89e30fe2bea226a8ca5123674db
  }
 },
 "nbformat": 4,
 "nbformat_minor": 5
}
