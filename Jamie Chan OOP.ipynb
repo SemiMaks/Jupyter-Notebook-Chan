{
 "cells": [
  {
   "cell_type": "code",
   "execution_count": 21,
   "id": "a497407e",
   "metadata": {},
   "outputs": [],
   "source": [
    "# Создание собственного класса\n",
    "'''\n",
    "class MyClass:\n",
    "    содержимое класса\n",
    "'''\n",
    "\n",
    "class Staff:\n",
    "    def __init__(self, pPosition, pName, pPay):\n",
    "        self.position = pPosition\n",
    "        self.name = pName\n",
    "        self.pay = pPay\n",
    "        print('Создание Staff(Персонал) объекта')\n",
    "        \n",
    "    def __str__(self):\n",
    "        return 'Позиция = %s, Имя = %s, Выплата = %d' %(self.position, self.name, self.pay)\n",
    "        \n",
    "    def calculatePay(self):\n",
    "        prompt = '\\nВведите число рабочих часов за неделю для %s:' %(self.name)\n",
    "        hours = input(prompt)\n",
    "        prompt = '\\nВведите стоимость часа для %s:' %(self.name)\n",
    "        hourlyRate = input(prompt)\n",
    "        self.pay = int(hours) * int(hourlyRate)\n",
    "        return self.pay\n"
   ]
  },
  {
   "cell_type": "code",
   "execution_count": 22,
   "id": "20bef571",
   "metadata": {},
   "outputs": [
    {
     "name": "stdout",
     "output_type": "stream",
     "text": [
      "Создание Staff(Персонал) объекта\n"
     ]
    }
   ],
   "source": [
    "# Создание экземрляра класса\n",
    "\n",
    "officeStaff = Staff('Сотрудник', 'Максим', 0)"
   ]
  },
  {
   "cell_type": "code",
   "execution_count": 23,
   "id": "bf3fdb97",
   "metadata": {},
   "outputs": [
    {
     "name": "stdout",
     "output_type": "stream",
     "text": [
      "Максим\n"
     ]
    },
    {
     "data": {
      "text/plain": [
       "'Сотрудник'"
      ]
     },
     "execution_count": 23,
     "metadata": {},
     "output_type": "execute_result"
    }
   ],
   "source": [
    "# officeStaff.name\n",
    "print(officeStaff.name)\n",
    "officeStaff.position"
   ]
  },
  {
   "cell_type": "code",
   "execution_count": 24,
   "id": "38f59311",
   "metadata": {},
   "outputs": [
    {
     "data": {
      "text/plain": [
       "'Manager'"
      ]
     },
     "execution_count": 24,
     "metadata": {},
     "output_type": "execute_result"
    }
   ],
   "source": [
    "officeStaff.position = 'Manager'\n",
    "officeStaff.position"
   ]
  },
  {
   "cell_type": "code",
   "execution_count": 25,
   "id": "292b8cd8",
   "metadata": {},
   "outputs": [
    {
     "data": {
      "text/plain": [
       "0"
      ]
     },
     "execution_count": 25,
     "metadata": {},
     "output_type": "execute_result"
    }
   ],
   "source": [
    "officeStaff.pay"
   ]
  },
  {
   "cell_type": "code",
   "execution_count": null,
   "id": "e85a3590",
   "metadata": {},
   "outputs": [],
   "source": [
    "# Использование метода calculatePay()\n",
    "\n",
    "officeStaff.calculatePay()"
   ]
  },
  {
   "cell_type": "code",
   "execution_count": 27,
   "id": "3424bd34",
   "metadata": {},
   "outputs": [
    {
     "data": {
      "text/plain": [
       "16000"
      ]
     },
     "execution_count": 27,
     "metadata": {},
     "output_type": "execute_result"
    }
   ],
   "source": [
    "officeStaff.pay"
   ]
  },
  {
   "cell_type": "code",
   "execution_count": 28,
   "id": "ce30d3f3",
   "metadata": {},
   "outputs": [
    {
     "name": "stdout",
     "output_type": "stream",
     "text": [
      "Позиция = Manager, Имя = Максим, Выплата = 16000\n"
     ]
    }
   ],
   "source": [
    "print(officeStaff)"
   ]
  },
  {
   "cell_type": "code",
   "execution_count": 10,
   "id": "dfe4de75",
   "metadata": {},
   "outputs": [],
   "source": [
    "# Во избежания обращения к переменным напрямую следут спользовать свойства,\n",
    "# переменную следует начинать со знака _ (1 нижнее подчеркивание) - соглашение\n",
    "# Сигнал для убеждения программистов не изменять пременную напрямую, перед именем поставить __ \n",
    "# (2 нижних подчеркивания) - тоже соглашение!!\n",
    "\n",
    "class StaffNew:\n",
    "    def __init__(self, pPosition, pName, pPay):\n",
    "        self._position = pPosition              \n",
    "        self.name = pName\n",
    "        self.pay = pPay    \n",
    "        print('Создание StaffNew(Персонал) объекта')\n",
    "        \n",
    "    def __str__(self):\n",
    "        return 'Позиция = %s, Имя = %s, Выплата = %d' %(self._position, self.name, self.pay)\n",
    "                \n",
    "    def calculatePay(self):\n",
    "        prompt = '\\nВведите число рабочих часов за неделю для %s: ' %(self.name)\n",
    "        hours = input(prompt)\n",
    "        prompt = '\\nВведите стоимость часа для %s: ' %(self.name)\n",
    "        hourlyRate = input(prompt)\n",
    "        self.pay = int(hours) * int(hourlyRate)\n",
    "        return self.pay\n",
    "\n",
    "    @property\n",
    "    def position(self):\n",
    "        print('Getter Method')\n",
    "        return self._position\n",
    "        \n",
    "    @position.setter\n",
    "    def position(self, value):\n",
    "        if value == 'Менеджер' or value == 'Специалист':\n",
    "            self._position = value\n",
    "        else:\n",
    "            print('Такой позиции не существует!')"
   ]
  },
  {
   "cell_type": "code",
   "execution_count": 11,
   "id": "a7083ae8",
   "metadata": {},
   "outputs": [
    {
     "name": "stdout",
     "output_type": "stream",
     "text": [
      "Создание StaffNew(Персонал) объекта\n"
     ]
    }
   ],
   "source": [
    "officeStaffNew = StaffNew('Спешл', 'Макс', 0)"
   ]
  },
  {
   "cell_type": "code",
   "execution_count": 12,
   "id": "6715f1dc",
   "metadata": {},
   "outputs": [
    {
     "data": {
      "text/plain": [
       "'Макс'"
      ]
     },
     "execution_count": 12,
     "metadata": {},
     "output_type": "execute_result"
    }
   ],
   "source": [
    "officeStaffNew.name"
   ]
  },
  {
   "cell_type": "code",
   "execution_count": 13,
   "id": "aafe951d",
   "metadata": {},
   "outputs": [
    {
     "name": "stdout",
     "output_type": "stream",
     "text": [
      "Позиция = Спешл, Имя = Макс, Выплата = 0\n"
     ]
    }
   ],
   "source": [
    "print(officeStaffNew)"
   ]
  },
  {
   "cell_type": "code",
   "execution_count": 14,
   "id": "a1d32d65",
   "metadata": {},
   "outputs": [
    {
     "name": "stdout",
     "output_type": "stream",
     "text": [
      "Такой позиции не существует!\n"
     ]
    }
   ],
   "source": [
    "officeStaffNew.position = 'Рабочий'"
   ]
  },
  {
   "cell_type": "code",
   "execution_count": 15,
   "id": "205c3cbe",
   "metadata": {},
   "outputs": [
    {
     "name": "stdout",
     "output_type": "stream",
     "text": [
      "Getter Method\n"
     ]
    },
    {
     "data": {
      "text/plain": [
       "'Спешл'"
      ]
     },
     "execution_count": 15,
     "metadata": {},
     "output_type": "execute_result"
    }
   ],
   "source": [
    "officeStaffNew.position"
   ]
  },
  {
   "cell_type": "code",
   "execution_count": 16,
   "id": "46667ee9",
   "metadata": {},
   "outputs": [
    {
     "name": "stdout",
     "output_type": "stream",
     "text": [
      "\n",
      "Введите число рабочих часов за неделю для Макс: 40\n",
      "\n",
      "Введите стоимость часа для Макс: 500\n"
     ]
    },
    {
     "data": {
      "text/plain": [
       "20000"
      ]
     },
     "execution_count": 16,
     "metadata": {},
     "output_type": "execute_result"
    }
   ],
   "source": [
    "officeStaffNew.calculatePay()"
   ]
  },
  {
   "cell_type": "code",
   "execution_count": 17,
   "id": "8ed9b4c7",
   "metadata": {},
   "outputs": [],
   "source": [
    "officeStaffNew.position = 'Специалист'"
   ]
  },
  {
   "cell_type": "code",
   "execution_count": 18,
   "id": "bee4be28",
   "metadata": {},
   "outputs": [
    {
     "name": "stdout",
     "output_type": "stream",
     "text": [
      "Getter Method\n"
     ]
    },
    {
     "data": {
      "text/plain": [
       "'Специалист'"
      ]
     },
     "execution_count": 18,
     "metadata": {},
     "output_type": "execute_result"
    }
   ],
   "source": [
    "officeStaffNew.position"
   ]
  },
  {
   "cell_type": "code",
   "execution_count": null,
   "id": "0149c9c4",
   "metadata": {},
   "outputs": [],
   "source": []
  }
 ],
 "metadata": {
  "kernelspec": {
   "display_name": "Python 3 (ipykernel)",
   "language": "python",
   "name": "python3"
  },
  "language_info": {
   "codemirror_mode": {
    "name": "ipython",
    "version": 3
   },
   "file_extension": ".py",
   "mimetype": "text/x-python",
   "name": "python",
   "nbconvert_exporter": "python",
   "pygments_lexer": "ipython3",
   "version": "3.10.0"
  }
 },
 "nbformat": 4,
 "nbformat_minor": 5
}
