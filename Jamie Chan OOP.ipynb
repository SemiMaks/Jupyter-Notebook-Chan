{
 "cells": [
  {
   "cell_type": "code",
   "execution_count": 8,
   "id": "a497407e",
   "metadata": {},
   "outputs": [],
   "source": [
    "# Создание собственного класса\n",
    "'''\n",
    "class MyClass:\n",
    "    содержимое класса\n",
    "'''\n",
    "\n",
    "class Staff:\n",
    "    def __init__(self, pPosition, pName, pPay):\n",
    "        self.position = pPosition\n",
    "        self.name = pName\n",
    "        self.pay = pPay\n",
    "        print('Создание Staff(Персонал) объекта')\n",
    "        \n",
    "    def __str__(self):\n",
    "        return 'Позиция = %s, Имя = %s, Выплата = %d' %(self.position, self.name, self.pay)\n",
    "        \n",
    "    def calculatePay(self):\n",
    "        prompt = '\\nВведите число рабочих часов за неделю для %s:' %(self.name)\n",
    "        hours = input(prompt)\n",
    "        prompt = '\\nВведите стоимость часа для %s:' %(self.name)\n",
    "        hourlyRate = input(prompt)\n",
    "        self.pay = int(hours) * int(hourlyRate)\n",
    "        return self.pay\n",
    "    \n",
    "    def __add__(self, other):\n",
    "        return self.pay + other.pay\n"
   ]
  },
  {
   "cell_type": "code",
   "execution_count": 43,
   "id": "20bef571",
   "metadata": {},
   "outputs": [
    {
     "name": "stdout",
     "output_type": "stream",
     "text": [
      "Создание Staff(Персонал) объекта\n"
     ]
    }
   ],
   "source": [
    "# Создание экземрляра класса\n",
    "\n",
    "officeStaff = Staff('Сотрудник', 'Максим', 0)"
   ]
  },
  {
   "cell_type": "code",
   "execution_count": 6,
   "id": "bf3fdb97",
   "metadata": {},
   "outputs": [
    {
     "name": "stdout",
     "output_type": "stream",
     "text": [
      "Максим\n"
     ]
    },
    {
     "data": {
      "text/plain": [
       "'Сотрудник'"
      ]
     },
     "execution_count": 6,
     "metadata": {},
     "output_type": "execute_result"
    }
   ],
   "source": [
    "# officeStaff.name\n",
    "print(officeStaff.name)\n",
    "officeStaff.position"
   ]
  },
  {
   "cell_type": "code",
   "execution_count": 7,
   "id": "38f59311",
   "metadata": {},
   "outputs": [
    {
     "data": {
      "text/plain": [
       "'Manager'"
      ]
     },
     "execution_count": 7,
     "metadata": {},
     "output_type": "execute_result"
    }
   ],
   "source": [
    "officeStaff.position = 'Manager'\n",
    "officeStaff.position"
   ]
  },
  {
   "cell_type": "code",
   "execution_count": 8,
   "id": "292b8cd8",
   "metadata": {},
   "outputs": [
    {
     "data": {
      "text/plain": [
       "0"
      ]
     },
     "execution_count": 8,
     "metadata": {},
     "output_type": "execute_result"
    }
   ],
   "source": [
    "officeStaff.pay"
   ]
  },
  {
   "cell_type": "code",
   "execution_count": 9,
   "id": "e85a3590",
   "metadata": {},
   "outputs": [
    {
     "name": "stdout",
     "output_type": "stream",
     "text": [
      "\n",
      "Введите число рабочих часов за неделю для Максим:5\n",
      "\n",
      "Введите стоимость часа для Максим:5\n"
     ]
    },
    {
     "data": {
      "text/plain": [
       "25"
      ]
     },
     "execution_count": 9,
     "metadata": {},
     "output_type": "execute_result"
    }
   ],
   "source": [
    "# Использование метода calculatePay()\n",
    "\n",
    "officeStaff.calculatePay()"
   ]
  },
  {
   "cell_type": "code",
   "execution_count": 10,
   "id": "3424bd34",
   "metadata": {},
   "outputs": [
    {
     "data": {
      "text/plain": [
       "25"
      ]
     },
     "execution_count": 10,
     "metadata": {},
     "output_type": "execute_result"
    }
   ],
   "source": [
    "officeStaff.pay"
   ]
  },
  {
   "cell_type": "code",
   "execution_count": 12,
   "id": "ce30d3f3",
   "metadata": {},
   "outputs": [
    {
     "name": "stdout",
     "output_type": "stream",
     "text": [
      "Позиция = Manager, Имя = Максим, Выплата = 25\n"
     ]
    }
   ],
   "source": [
    "print(officeStaff)"
   ]
  },
  {
   "cell_type": "code",
   "execution_count": 13,
   "id": "dfe4de75",
   "metadata": {},
   "outputs": [],
   "source": [
    "# Во избежания обращения к переменным напрямую следут спользовать свойства,\n",
    "# переменную следует начинать со знака _ (1 нижнее подчеркивание) - соглашение\n",
    "# Сигнал для убеждения программистов не изменять пременную напрямую, перед именем поставить __ \n",
    "# (2 нижних подчеркивания) - тоже соглашение!!\n",
    "\n",
    "class StaffNew:\n",
    "    def __init__(self, pPosition, pName, pPay):\n",
    "        self._position = pPosition              \n",
    "        self.name = pName\n",
    "        self.pay = pPay    \n",
    "        print('Создание StaffNew(Персонал) объекта')\n",
    "        \n",
    "    def __str__(self):\n",
    "        return 'Позиция = %s, Имя = %s, Выплата = %d' %(self._position, self.name, self.pay)\n",
    "                \n",
    "    def calculatePay(self):\n",
    "        prompt = '\\nВведите число рабочих часов за неделю для %s: ' %(self.name)\n",
    "        hours = input(prompt)\n",
    "        prompt = '\\nВведите стоимость часа для %s: ' %(self.name)\n",
    "        hourlyRate = input(prompt)\n",
    "        self.pay = int(hours) * int(hourlyRate)\n",
    "        return self.pay\n",
    "\n",
    "    @property\n",
    "    def position(self):\n",
    "        print('Getter Method')\n",
    "        return self._position\n",
    "        \n",
    "    @position.setter\n",
    "    def position(self, value):\n",
    "        if value == 'Менеджер' or value == 'Специалист':\n",
    "            self._position = value\n",
    "        else:\n",
    "            print('Такой позиции не существует!')"
   ]
  },
  {
   "cell_type": "code",
   "execution_count": 14,
   "id": "a7083ae8",
   "metadata": {},
   "outputs": [
    {
     "name": "stdout",
     "output_type": "stream",
     "text": [
      "Создание StaffNew(Персонал) объекта\n"
     ]
    }
   ],
   "source": [
    "officeStaffNew = StaffNew('Спешл', 'Макс', 0)"
   ]
  },
  {
   "cell_type": "code",
   "execution_count": 15,
   "id": "6715f1dc",
   "metadata": {},
   "outputs": [
    {
     "data": {
      "text/plain": [
       "'Макс'"
      ]
     },
     "execution_count": 15,
     "metadata": {},
     "output_type": "execute_result"
    }
   ],
   "source": [
    "officeStaffNew.name"
   ]
  },
  {
   "cell_type": "code",
   "execution_count": 16,
   "id": "aafe951d",
   "metadata": {},
   "outputs": [
    {
     "name": "stdout",
     "output_type": "stream",
     "text": [
      "Позиция = Спешл, Имя = Макс, Выплата = 0\n"
     ]
    }
   ],
   "source": [
    "print(officeStaffNew)"
   ]
  },
  {
   "cell_type": "code",
   "execution_count": 17,
   "id": "a1d32d65",
   "metadata": {},
   "outputs": [
    {
     "name": "stdout",
     "output_type": "stream",
     "text": [
      "Такой позиции не существует!\n"
     ]
    }
   ],
   "source": [
    "officeStaffNew.position = 'Рабочий'"
   ]
  },
  {
   "cell_type": "code",
   "execution_count": 18,
   "id": "205c3cbe",
   "metadata": {},
   "outputs": [
    {
     "name": "stdout",
     "output_type": "stream",
     "text": [
      "Getter Method\n"
     ]
    },
    {
     "data": {
      "text/plain": [
       "'Спешл'"
      ]
     },
     "execution_count": 18,
     "metadata": {},
     "output_type": "execute_result"
    }
   ],
   "source": [
    "officeStaffNew.position"
   ]
  },
  {
   "cell_type": "code",
   "execution_count": 19,
   "id": "46667ee9",
   "metadata": {},
   "outputs": [
    {
     "name": "stdout",
     "output_type": "stream",
     "text": [
      "\n",
      "Введите число рабочих часов за неделю для Макс: 5\n",
      "\n",
      "Введите стоимость часа для Макс: 6\n"
     ]
    },
    {
     "data": {
      "text/plain": [
       "30"
      ]
     },
     "execution_count": 19,
     "metadata": {},
     "output_type": "execute_result"
    }
   ],
   "source": [
    "officeStaffNew.calculatePay()"
   ]
  },
  {
   "cell_type": "code",
   "execution_count": 20,
   "id": "8ed9b4c7",
   "metadata": {},
   "outputs": [],
   "source": [
    "officeStaffNew.position = 'Специалист'"
   ]
  },
  {
   "cell_type": "code",
   "execution_count": 21,
   "id": "9822c033",
   "metadata": {},
   "outputs": [
    {
     "name": "stdout",
     "output_type": "stream",
     "text": [
      "Getter Method\n"
     ]
    },
    {
     "data": {
      "text/plain": [
       "'Специалист'"
      ]
     },
     "execution_count": 21,
     "metadata": {},
     "output_type": "execute_result"
    }
   ],
   "source": [
    "officeStaffNew.position"
   ]
  },
  {
   "cell_type": "code",
   "execution_count": 22,
   "id": "b57416ee",
   "metadata": {},
   "outputs": [],
   "source": [
    "# Корректировка имен ( __ двойное подчеркивание)\n",
    "\n",
    "class A:\n",
    "    def __init__(self):\n",
    "        self.__x = 5\n",
    "        self._y = 6"
   ]
  },
  {
   "cell_type": "code",
   "execution_count": 23,
   "id": "7dddbc42",
   "metadata": {},
   "outputs": [],
   "source": [
    "varA = A()"
   ]
  },
  {
   "cell_type": "code",
   "execution_count": 24,
   "id": "cb10b9aa",
   "metadata": {},
   "outputs": [
    {
     "data": {
      "text/plain": [
       "6"
      ]
     },
     "execution_count": 24,
     "metadata": {},
     "output_type": "execute_result"
    }
   ],
   "source": [
    "varA._y"
   ]
  },
  {
   "cell_type": "code",
   "execution_count": 25,
   "id": "25fa7e0a",
   "metadata": {},
   "outputs": [
    {
     "ename": "AttributeError",
     "evalue": "'A' object has no attribute '_x'",
     "output_type": "error",
     "traceback": [
      "\u001b[1;31m---------------------------------------------------------------------------\u001b[0m",
      "\u001b[1;31mAttributeError\u001b[0m                            Traceback (most recent call last)",
      "\u001b[1;32m<ipython-input-25-ca1a6bc0c3f4>\u001b[0m in \u001b[0;36m<module>\u001b[1;34m\u001b[0m\n\u001b[1;32m----> 1\u001b[1;33m \u001b[0mvarA\u001b[0m\u001b[1;33m.\u001b[0m\u001b[0m_x\u001b[0m \u001b[1;31m# ошибка\u001b[0m\u001b[1;33m\u001b[0m\u001b[1;33m\u001b[0m\u001b[0m\n\u001b[0m",
      "\u001b[1;31mAttributeError\u001b[0m: 'A' object has no attribute '_x'"
     ]
    }
   ],
   "source": [
    "varA._x # ошибка"
   ]
  },
  {
   "cell_type": "code",
   "execution_count": 26,
   "id": "02b0afba",
   "metadata": {},
   "outputs": [
    {
     "data": {
      "text/plain": [
       "5"
      ]
     },
     "execution_count": 26,
     "metadata": {},
     "output_type": "execute_result"
    }
   ],
   "source": [
    "varA._A__x # обход ошибки, но так делать не следует!"
   ]
  },
  {
   "cell_type": "code",
   "execution_count": 27,
   "id": "0d06bf02",
   "metadata": {},
   "outputs": [],
   "source": [
    "# Демонстрация/разница переменной класса и переменной экземпляра класса\n",
    "\n",
    "class ProgStaff:\n",
    "    companyName = 'Школа программирования'\n",
    "    \n",
    "    def __init__(self, pSalary):\n",
    "        self.salary = pSalary\n",
    "        \n",
    "    def printInfo(self):\n",
    "        print('Компания называется ', ProgStaff.companyName)\n",
    "        print('Зарплата составляет ', self.salary)\n",
    "        \n",
    "peter = ProgStaff(2500)\n",
    "john = ProgStaff(2500)"
   ]
  },
  {
   "cell_type": "code",
   "execution_count": 28,
   "id": "9533e629",
   "metadata": {},
   "outputs": [
    {
     "name": "stdout",
     "output_type": "stream",
     "text": [
      "2500\n",
      "2500\n"
     ]
    }
   ],
   "source": [
    "print(peter.salary)\n",
    "print(john.salary)"
   ]
  },
  {
   "cell_type": "code",
   "execution_count": 29,
   "id": "ebcfbc31",
   "metadata": {},
   "outputs": [],
   "source": [
    "ProgStaff.companyName = 'Лаборатория программирования'"
   ]
  },
  {
   "cell_type": "code",
   "execution_count": 30,
   "id": "027b34ed",
   "metadata": {},
   "outputs": [
    {
     "data": {
      "text/plain": [
       "'Лаборатория программирования'"
      ]
     },
     "execution_count": 30,
     "metadata": {},
     "output_type": "execute_result"
    }
   ],
   "source": [
    "ProgStaff.companyName"
   ]
  },
  {
   "cell_type": "code",
   "execution_count": 31,
   "id": "dadb71eb",
   "metadata": {},
   "outputs": [
    {
     "name": "stdout",
     "output_type": "stream",
     "text": [
      "Лаборатория программирования\n",
      "Лаборатория программирования\n"
     ]
    }
   ],
   "source": [
    "print(peter.companyName)\n",
    "print(john.companyName)"
   ]
  },
  {
   "cell_type": "code",
   "execution_count": 32,
   "id": "c5181da2",
   "metadata": {},
   "outputs": [],
   "source": [
    "peter.salary = 2700"
   ]
  },
  {
   "cell_type": "code",
   "execution_count": 33,
   "id": "e951e889",
   "metadata": {},
   "outputs": [
    {
     "name": "stdout",
     "output_type": "stream",
     "text": [
      "2700\n",
      "2500\n"
     ]
    }
   ],
   "source": [
    "print(peter.salary)\n",
    "print(john.salary)"
   ]
  },
  {
   "cell_type": "code",
   "execution_count": 34,
   "id": "e53a4ee7",
   "metadata": {},
   "outputs": [
    {
     "name": "stdout",
     "output_type": "stream",
     "text": [
      "Компания называется  Лаборатория программирования\n",
      "Зарплата составляет  2500\n"
     ]
    }
   ],
   "source": [
    "john.printInfo()"
   ]
  },
  {
   "cell_type": "code",
   "execution_count": 35,
   "id": "f1f9d4cb",
   "metadata": {},
   "outputs": [
    {
     "name": "stdout",
     "output_type": "stream",
     "text": [
      "Компания называется  Лаборатория программирования\n",
      "Зарплата составляет  2500\n"
     ]
    }
   ],
   "source": [
    "ProgStaff.printInfo(john)"
   ]
  },
  {
   "cell_type": "code",
   "execution_count": 36,
   "id": "f77fbd10",
   "metadata": {},
   "outputs": [
    {
     "name": "stdout",
     "output_type": "stream",
     "text": [
      "Компания называется  Лаборатория программирования\n",
      "Зарплата составляет  2500\n"
     ]
    }
   ],
   "source": [
    "ProgStaff.printInfo(john)"
   ]
  },
  {
   "cell_type": "code",
   "execution_count": 37,
   "id": "824672d1",
   "metadata": {},
   "outputs": [
    {
     "name": "stdout",
     "output_type": "stream",
     "text": [
      "Метод класса. cls.a =  1\n",
      "Метод класса. cls.a =  1\n"
     ]
    }
   ],
   "source": [
    "# Метод экземпляра @classmethod получает self в параметре, всегда первый если не один.\n",
    "# Метод класса получает в первом параметре объект класса (вместо  self), обозначается cls.\n",
    "\n",
    "class MethodDemo:\n",
    "    \n",
    "    a = 1\n",
    "    \n",
    "    @classmethod\n",
    "    def classM(cls):\n",
    "        print(\"Метод класса. cls.a = \", cls.a)\n",
    "        \n",
    "    @staticmethod\n",
    "    def staticM():\n",
    "        print(\"Статический метод\")\n",
    "        \n",
    "MethodDemo.classM()\n",
    "\n",
    "md1 = MethodDemo()\n",
    "md1.classM()"
   ]
  },
  {
   "cell_type": "code",
   "execution_count": 44,
   "id": "d76bf828",
   "metadata": {},
   "outputs": [
    {
     "name": "stdout",
     "output_type": "stream",
     "text": [
      "Статический метод\n",
      "Статический метод\n"
     ]
    }
   ],
   "source": [
    "# Первый параметр статического метода @staticmethod не содержит self или cls,\n",
    "# а нужно указать имя класса или имя экземпляра.\n",
    "\n",
    "md1.staticM()\n",
    "MethodDemo.staticM()"
   ]
  },
  {
   "cell_type": "code",
   "execution_count": 13,
   "id": "2cc00e53",
   "metadata": {},
   "outputs": [],
   "source": [
    "# Создаём подкласс класса Staff\n",
    "\n",
    "class ManagementStaff(Staff):\n",
    "\n",
    "    def __init__(self, pName, pPay, pAllowance, pBonus):\n",
    "        super().__init__('Manager', pName, pPay)\n",
    "        self.allowance = pAllowance\n",
    "        self.Bonus = pBonus\n",
    "        \n",
    "    def calculatePay(self):\n",
    "        basicPay = super().calculatePay()\n",
    "        self.pay = basicPay + self.allowance\n",
    "        return self.pay\n",
    "    \n",
    "    def calculatePerfBonus(self):\n",
    "        prompt ='\\nВведите оценку эффективности: '\n",
    "        grade = input(prompt)\n",
    "        if (grade == 'A'):\n",
    "            self.bonus = 1000\n",
    "        else:\n",
    "            self.bonus = 0\n",
    "        return self.bonus"
   ]
  },
  {
   "cell_type": "code",
   "execution_count": 14,
   "id": "41964803",
   "metadata": {},
   "outputs": [
    {
     "name": "stdout",
     "output_type": "stream",
     "text": [
      "Создание Staff(Персонал) объекта\n",
      "Создание Staff(Персонал) объекта\n",
      "Позиция = Basic, Имя = Марк, Выплата = 0\n",
      "Позиция = Manager, Имя = Том, Выплата = 0\n",
      "\n",
      "Введите число рабочих часов за неделю для Марк:40\n",
      "\n",
      "Введите стоимость часа для Марк:5\n",
      "Выплата Марку =  200\n",
      "\n",
      "Введите число рабочих часов за неделю для Том:40\n",
      "\n",
      "Введите стоимость часа для Том:5\n",
      "Выплата Тому =  1200\n",
      "\n",
      "Введите оценку эффективности: A\n",
      "Бонус Тома =  1000\n",
      "\n",
      "Общая выплата Марка и Тома =  1400\n"
     ]
    }
   ],
   "source": [
    "# Новый подкласс BasicStaff:\n",
    "\n",
    "class BasicStaff(Staff):\n",
    "    def __init__(self, pName, pPay):\n",
    "        super().__init__('Basic', pName, pPay)\n",
    "        \n",
    "mark = BasicStaff('Марк', 0)\n",
    "tom = ManagementStaff('Том', 0, 1000, 0)\n",
    "\n",
    "print(mark)\n",
    "print(tom)\n",
    "\n",
    "print('Выплата Марку = ', mark.calculatePay())\n",
    "print('Выплата Тому = ', tom.calculatePay())\n",
    "# print('Mark\\'s Performans Bonus = ', mark.calculatePerfBonus())\n",
    "print('Бонус Тома = ', tom.calculatePerfBonus())\n",
    "\n",
    "totalPay = mark + tom\n",
    "print('\\nОбщая выплата Марка и Тома = ', totalPay)"
   ]
  },
  {
   "cell_type": "code",
   "execution_count": 16,
   "id": "88d2d5b8",
   "metadata": {},
   "outputs": [
    {
     "name": "stdout",
     "output_type": "stream",
     "text": [
      "Parent Class Object Created\n",
      "Child Class Object Created\n"
     ]
    }
   ],
   "source": [
    "# Встроенные функции python\n",
    "\n",
    "class ParentClass:\n",
    "    def __init__(self):\n",
    "        self.a = 1\n",
    "        print(\"Parent Class Object Created\")\n",
    "    def someMethod(self):\n",
    "        print(\"Hello\")\n",
    "        \n",
    "class ChildClass(ParentClass):\n",
    "    def __init__(self):\n",
    "        print(\"Child Class Object Created\")\n",
    "        \n",
    "parent = ParentClass()\n",
    "child = ChildClass()"
   ]
  },
  {
   "cell_type": "code",
   "execution_count": 22,
   "id": "1a868c35",
   "metadata": {},
   "outputs": [
    {
     "name": "stdout",
     "output_type": "stream",
     "text": [
      "No such class\n"
     ]
    }
   ],
   "source": [
    "# Функция isinstance() получает два аргумента и проверяет\n",
    "# является ли первый аргумент экземпляром второго.\n",
    "\n",
    "isinstance(child, ChildClass)   # True\n",
    "isinstance(parent, ChildClass)  # False\n",
    "isinstance(child, ParentClass)  # True\n",
    "isinstance(5, int)   # True"
   ]
  },
  {
   "cell_type": "code",
   "execution_count": 23,
   "id": "94440b35",
   "metadata": {},
   "outputs": [
    {
     "name": "stdout",
     "output_type": "stream",
     "text": [
      "No such class\n"
     ]
    }
   ],
   "source": [
    "try:\n",
    "    isinstance(parent, MyClass)\n",
    "except NameError:\n",
    "    print(\"No such class\")"
   ]
  },
  {
   "cell_type": "code",
   "execution_count": 27,
   "id": "6edbb7b2",
   "metadata": {},
   "outputs": [
    {
     "data": {
      "text/plain": [
       "True"
      ]
     },
     "execution_count": 27,
     "metadata": {},
     "output_type": "execute_result"
    }
   ],
   "source": [
    "# Функция issubclass() проверяет является ли\n",
    "# первый аргументом подклассом второго (может содержать кортеж)\n",
    "\n",
    "issubclass(ChildClass, ParentClass)   # True\n",
    "issubclass(ParentClass, ParentClass)  # True\n",
    "issubclass(ChildClass, int)           # False\n",
    "issubclass(ChildClass, (int, ParentClass))  #True"
   ]
  },
  {
   "cell_type": "code",
   "execution_count": 40,
   "id": "8d33d669",
   "metadata": {},
   "outputs": [
    {
     "data": {
      "text/plain": [
       "False"
      ]
     },
     "execution_count": 40,
     "metadata": {},
     "output_type": "execute_result"
    }
   ],
   "source": [
    "# Функция hastr() проверяет содержит ли экземпляр\n",
    "# заданный атрибут(дынные, методы...)\n",
    "\n",
    "hasattr(parent, 'someMethod')  # True\n",
    "hasattr(parent, 'a')           # True\n",
    "hasattr(parent, 'b')           # False\n"
   ]
  },
  {
   "cell_type": "code",
   "execution_count": null,
   "id": "27d02b26",
   "metadata": {},
   "outputs": [],
   "source": []
  }
 ],
 "metadata": {
  "kernelspec": {
   "display_name": "Python 3",
   "language": "python",
   "name": "python3"
  },
  "language_info": {
   "codemirror_mode": {
    "name": "ipython",
    "version": 3
   },
   "file_extension": ".py",
   "mimetype": "text/x-python",
   "name": "python",
   "nbconvert_exporter": "python",
   "pygments_lexer": "ipython3",
   "version": "3.8.10"
  }
 },
 "nbformat": 4,
 "nbformat_minor": 5
}
