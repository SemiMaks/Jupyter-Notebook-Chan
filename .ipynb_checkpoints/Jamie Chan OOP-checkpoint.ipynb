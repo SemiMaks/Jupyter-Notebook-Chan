{
 "cells": [
  {
   "cell_type": "code",
   "execution_count": 40,
   "id": "a497407e",
   "metadata": {},
   "outputs": [],
   "source": [
    "# Создание собственного класса\n",
    "'''\n",
    "class MyClass:\n",
    "    содержимое класса\n",
    "'''\n",
    "\n",
    "class Staff:\n",
    "    def __init__(self, pPosition, pName, pPay):\n",
    "        self.position = pPosition\n",
    "        self.name = pName\n",
    "        self.pay = pPay\n",
    "        print('Создание Staff(Персонал) объекта')\n",
    "        \n",
    "    def __str__(self):\n",
    "        return 'Позиция = %s, Имя = %s, Выплата = %d' %(self.position, self.name, self.pay)\n",
    "        \n",
    "    def calculatePay(self):\n",
    "        prompt = '\\nВведите число рабочих часов за неделю для %s:' %(self.name)\n",
    "        hours = input(prompt)\n",
    "        prompt = '\\nВведите стоимость часа для %s:' %(self.name)\n",
    "        hourlyRate = input(prompt)\n",
    "        self.pay = int(hours) * int(hourlyRate)\n",
    "        return self.pay\n"
   ]
  },
  {
   "cell_type": "code",
   "execution_count": 41,
   "id": "20bef571",
   "metadata": {},
   "outputs": [
    {
     "name": "stdout",
     "output_type": "stream",
     "text": [
      "Создание Staff(Персонал) объекта\n"
     ]
    }
   ],
   "source": [
    "# Создание экземрляра класса\n",
    "\n",
    "officeStaff = Staff('Сотрудник', 'Максим', 0)"
   ]
  },
  {
   "cell_type": "code",
   "execution_count": 5,
   "id": "c85a6d16",
   "metadata": {},
   "outputs": [
    {
     "name": "stdout",
     "output_type": "stream",
     "text": [
      "Yvone\n"
     ]
    },
    {
     "data": {
      "text/plain": [
       "'Basic'"
      ]
     },
     "execution_count": 5,
     "metadata": {},
     "output_type": "execute_result"
    }
   ],
   "source": [
    "# officeStaff.name\n",
    "print(officeStaff.name)\n",
    "officeStaff.position"
   ]
  },
  {
   "cell_type": "code",
   "execution_count": 17,
   "id": "ae3f4104",
   "metadata": {},
   "outputs": [
    {
     "data": {
      "text/plain": [
       "'Manager'"
      ]
     },
     "execution_count": 17,
     "metadata": {},
     "output_type": "execute_result"
    }
   ],
   "source": [
    "officeStaff.position = 'Manager'\n",
    "officeStaff.position"
   ]
  },
  {
   "cell_type": "code",
   "execution_count": 18,
   "id": "a49ef6e1",
   "metadata": {},
   "outputs": [
    {
     "data": {
      "text/plain": [
       "0"
      ]
     },
     "execution_count": 18,
     "metadata": {},
     "output_type": "execute_result"
    }
   ],
   "source": [
    "officeStaff.pay"
   ]
  },
  {
   "cell_type": "code",
   "execution_count": 42,
   "id": "6735e2ce",
   "metadata": {},
   "outputs": [
    {
     "name": "stdout",
     "output_type": "stream",
     "text": [
      "\n",
      "Введите число рабочих часов за неделю для Максим:40\n",
      "\n",
      "Введите стоимость часа для Максим:460\n"
     ]
    },
    {
     "data": {
      "text/plain": [
       "18400"
      ]
     },
     "execution_count": 42,
     "metadata": {},
     "output_type": "execute_result"
    }
   ],
   "source": [
    "# Использование метода calculatePay()\n",
    "\n",
    "officeStaff.calculatePay()"
   ]
  },
  {
   "cell_type": "code",
   "execution_count": 43,
   "id": "8ca257d7",
   "metadata": {},
   "outputs": [
    {
     "data": {
      "text/plain": [
       "18400"
      ]
     },
     "execution_count": 43,
     "metadata": {},
     "output_type": "execute_result"
    }
   ],
   "source": [
    "officeStaff.pay"
   ]
  },
  {
   "cell_type": "code",
   "execution_count": 44,
   "id": "d6a7e6e6",
   "metadata": {},
   "outputs": [
    {
     "name": "stdout",
     "output_type": "stream",
     "text": [
      "Позиция = Сотрудник, Имя = Максим, Выплата = 18400\n"
     ]
    }
   ],
   "source": [
    "print(officeStaff)"
   ]
  },
  {
   "cell_type": "code",
   "execution_count": 63,
   "id": "9d84bd2c",
   "metadata": {},
   "outputs": [],
   "source": [
    "# Во избежания обращения к переменным напрямую следут спользовать свойства,\n",
    "# переменную следует начинать со знака _ (1 нижнее подчеркивание) - соглашение\n",
    "# Чтобы убедить программистов не изменять пременную напрямую, перед именем поставить __ \n",
    "# (2 нижних подчеркивания) - тоже соглашение!!\n",
    "\n",
    "class StaffNew:\n",
    "    def __init__(self, pPosition, pName, pPay):\n",
    "        self._position = pPosition               # добавляем _ к position\n",
    "        self.name = pName\n",
    "        self.pay = pPay\n",
    "        \n",
    "        @property\n",
    "        def position(self):\n",
    "            print('Getter Method')\n",
    "            return self._position\n",
    "        \n",
    "        @position.setter\n",
    "        def position(self, value):\n",
    "            if value == 'Менеджер' or value == 'Специалист':\n",
    "                self._position = value\n",
    "            else:\n",
    "                print('Такой розиции не существует!')\n",
    "                \n",
    "        print('Создание StaffNew(Персонал) объекта')\n",
    "        \n",
    "    def __str__(self):\n",
    "        return 'Позиция = %s, Имя = %s, Выплата = %d' %(self._position, self.name, self.pay)\n",
    "        # так же self._position\n",
    "        \n",
    "    def calculatePay(self):\n",
    "        prompt = '\\nВведите число рабочих часов за неделю для %s:' %(self.name)\n",
    "        hours = input(prompt)\n",
    "        prompt = '\\nВведите стоимость часа для %s:' %(self.name)\n",
    "        hourlyRate = input(prompt)\n",
    "        self.pay = int(hours) * int(hourlyRate)\n",
    "        return self.pay"
   ]
  },
  {
   "cell_type": "code",
   "execution_count": 64,
   "id": "efaa3e1a",
   "metadata": {},
   "outputs": [
    {
     "name": "stdout",
     "output_type": "stream",
     "text": [
      "Создание StaffNew(Персонал) объекта\n"
     ]
    }
   ],
   "source": [
    "officeStaffNew = StaffNew('Специалист', 'Максим', 0)"
   ]
  },
  {
   "cell_type": "code",
   "execution_count": 65,
   "id": "270a9d5e",
   "metadata": {},
   "outputs": [
    {
     "name": "stdout",
     "output_type": "stream",
     "text": [
      "Позиция = Специалист, Имя = Максим, Выплата = 0\n"
     ]
    }
   ],
   "source": [
    "print(officeStaffNew)"
   ]
  },
  {
   "cell_type": "code",
   "execution_count": 66,
   "id": "51fac7b7",
   "metadata": {},
   "outputs": [],
   "source": [
    "officeStaffNew.position = 'Рабочий'"
   ]
  },
  {
   "cell_type": "code",
   "execution_count": 67,
   "id": "97f9a9d4",
   "metadata": {},
   "outputs": [
    {
     "data": {
      "text/plain": [
       "'Рабочий'"
      ]
     },
     "execution_count": 67,
     "metadata": {},
     "output_type": "execute_result"
    }
   ],
   "source": [
    "officeStaffNew.position"
   ]
  },
  {
   "cell_type": "code",
   "execution_count": null,
   "id": "f9645461",
   "metadata": {},
   "outputs": [],
   "source": []
  }
 ],
 "metadata": {
  "kernelspec": {
   "display_name": "Python 3 (ipykernel)",
   "language": "python",
   "name": "python3"
  },
  "language_info": {
   "codemirror_mode": {
    "name": "ipython",
    "version": 3
   },
   "file_extension": ".py",
   "mimetype": "text/x-python",
   "name": "python",
   "nbconvert_exporter": "python",
   "pygments_lexer": "ipython3",
   "version": "3.10.0"
  }
 },
 "nbformat": 4,
 "nbformat_minor": 5
}
