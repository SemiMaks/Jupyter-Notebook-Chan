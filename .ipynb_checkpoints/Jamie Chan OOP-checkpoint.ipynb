{
 "cells": [
  {
   "cell_type": "code",
   "execution_count": 2,
   "id": "a497407e",
   "metadata": {},
   "outputs": [],
   "source": [
    "# Создание собственного класса\n",
    "'''\n",
    "class MyClass:\n",
    "    содержимое класса\n",
    "'''\n",
    "\n",
    "class Staff:\n",
    "    def __init__(self, pPosition, pName, pPay):\n",
    "        self.position = pPosition\n",
    "        self.name = pName\n",
    "        self.pay = pPay\n",
    "        print('Создание Staff(Персонал) объекта')\n",
    "        \n",
    "    def __str__(self):\n",
    "        return 'Позиция = %s, Имя = %s, Выплата = %d' %(self.position, self.name, self.pay)\n",
    "        \n",
    "    def calculatePay(self):\n",
    "        prompt = '\\nВведите число рабочих часов за неделю для %s:' %(self.name)\n",
    "        hours = input(prompt)\n",
    "        prompt = '\\nВведите стоимость часа для %s:' %(self.name)\n",
    "        hourlyRate = input(prompt)\n",
    "        self.pay = int(hours) * int(hourlyRate)\n",
    "        return self.pay\n"
   ]
  },
  {
   "cell_type": "code",
   "execution_count": 3,
   "id": "20bef571",
   "metadata": {},
   "outputs": [
    {
     "name": "stdout",
     "output_type": "stream",
     "text": [
      "Создание Staff(Персонал) объекта\n"
     ]
    }
   ],
   "source": [
    "# Создание экземрляра класса\n",
    "\n",
    "officeStaff = Staff('Сотрудник', 'Максим', 0)"
   ]
  },
  {
   "cell_type": "code",
   "execution_count": 4,
   "id": "bf3fdb97",
   "metadata": {},
   "outputs": [
    {
     "name": "stdout",
     "output_type": "stream",
     "text": [
      "Максим\n"
     ]
    },
    {
     "data": {
      "text/plain": [
       "'Сотрудник'"
      ]
     },
     "execution_count": 4,
     "metadata": {},
     "output_type": "execute_result"
    }
   ],
   "source": [
    "# officeStaff.name\n",
    "print(officeStaff.name)\n",
    "officeStaff.position"
   ]
  },
  {
   "cell_type": "code",
   "execution_count": 5,
   "id": "38f59311",
   "metadata": {},
   "outputs": [
    {
     "data": {
      "text/plain": [
       "'Manager'"
      ]
     },
     "execution_count": 5,
     "metadata": {},
     "output_type": "execute_result"
    }
   ],
   "source": [
    "officeStaff.position = 'Manager'\n",
    "officeStaff.position"
   ]
  },
  {
   "cell_type": "code",
   "execution_count": 6,
   "id": "292b8cd8",
   "metadata": {},
   "outputs": [
    {
     "data": {
      "text/plain": [
       "0"
      ]
     },
     "execution_count": 6,
     "metadata": {},
     "output_type": "execute_result"
    }
   ],
   "source": [
    "officeStaff.pay"
   ]
  },
  {
   "cell_type": "code",
   "execution_count": null,
   "id": "e85a3590",
   "metadata": {},
   "outputs": [],
   "source": [
    "# Использование метода calculatePay()\n",
    "\n",
    "officeStaff.calculatePay()"
   ]
  },
  {
   "cell_type": "code",
   "execution_count": null,
   "id": "3424bd34",
   "metadata": {},
   "outputs": [],
   "source": [
    "officeStaff.pay"
   ]
  },
  {
   "cell_type": "code",
   "execution_count": null,
   "id": "ce30d3f3",
   "metadata": {},
   "outputs": [],
   "source": [
    "print(officeStaff)"
   ]
  },
  {
   "cell_type": "code",
   "execution_count": null,
   "id": "dfe4de75",
   "metadata": {},
   "outputs": [],
   "source": [
    "# Во избежания обращения к переменным напрямую следут спользовать свойства,\n",
    "# переменную следует начинать со знака _ (1 нижнее подчеркивание) - соглашение\n",
    "# Сигнал для убеждения программистов не изменять пременную напрямую, перед именем поставить __ \n",
    "# (2 нижних подчеркивания) - тоже соглашение!!\n",
    "\n",
    "class StaffNew:\n",
    "    def __init__(self, pPosition, pName, pPay):\n",
    "        self._position = pPosition              \n",
    "        self.name = pName\n",
    "        self.pay = pPay    \n",
    "        print('Создание StaffNew(Персонал) объекта')\n",
    "        \n",
    "    def __str__(self):\n",
    "        return 'Позиция = %s, Имя = %s, Выплата = %d' %(self._position, self.name, self.pay)\n",
    "                \n",
    "    def calculatePay(self):\n",
    "        prompt = '\\nВведите число рабочих часов за неделю для %s: ' %(self.name)\n",
    "        hours = input(prompt)\n",
    "        prompt = '\\nВведите стоимость часа для %s: ' %(self.name)\n",
    "        hourlyRate = input(prompt)\n",
    "        self.pay = int(hours) * int(hourlyRate)\n",
    "        return self.pay\n",
    "\n",
    "    @property\n",
    "    def position(self):\n",
    "        print('Getter Method')\n",
    "        return self._position\n",
    "        \n",
    "    @position.setter\n",
    "    def position(self, value):\n",
    "        if value == 'Менеджер' or value == 'Специалист':\n",
    "            self._position = value\n",
    "        else:\n",
    "            print('Такой позиции не существует!')"
   ]
  },
  {
   "cell_type": "code",
   "execution_count": null,
   "id": "a7083ae8",
   "metadata": {},
   "outputs": [],
   "source": [
    "officeStaffNew = StaffNew('Спешл', 'Макс', 0)"
   ]
  },
  {
   "cell_type": "code",
   "execution_count": null,
   "id": "6715f1dc",
   "metadata": {},
   "outputs": [],
   "source": [
    "officeStaffNew.name"
   ]
  },
  {
   "cell_type": "code",
   "execution_count": null,
   "id": "aafe951d",
   "metadata": {},
   "outputs": [],
   "source": [
    "print(officeStaffNew)"
   ]
  },
  {
   "cell_type": "code",
   "execution_count": null,
   "id": "a1d32d65",
   "metadata": {},
   "outputs": [],
   "source": [
    "officeStaffNew.position = 'Рабочий'"
   ]
  },
  {
   "cell_type": "code",
   "execution_count": null,
   "id": "205c3cbe",
   "metadata": {},
   "outputs": [],
   "source": [
    "officeStaffNew.position"
   ]
  },
  {
   "cell_type": "code",
   "execution_count": null,
   "id": "46667ee9",
   "metadata": {},
   "outputs": [],
   "source": [
    "officeStaffNew.calculatePay()"
   ]
  },
  {
   "cell_type": "code",
   "execution_count": null,
   "id": "8ed9b4c7",
   "metadata": {},
   "outputs": [],
   "source": [
    "officeStaffNew.position = 'Специалист'"
   ]
  },
  {
   "cell_type": "code",
   "execution_count": null,
   "id": "9822c033",
   "metadata": {},
   "outputs": [],
   "source": [
    "officeStaffNew.position"
   ]
  },
  {
   "cell_type": "code",
   "execution_count": null,
   "id": "b57416ee",
   "metadata": {},
   "outputs": [],
   "source": [
    "# Корректировка имен ( __ двойное подчеркивание)\n",
    "\n",
    "class A:\n",
    "    def __init__(self):\n",
    "        self.__x = 5\n",
    "        self._y = 6"
   ]
  },
  {
   "cell_type": "code",
   "execution_count": null,
   "id": "7dddbc42",
   "metadata": {},
   "outputs": [],
   "source": [
    "varA = A()"
   ]
  },
  {
   "cell_type": "code",
   "execution_count": null,
   "id": "cb10b9aa",
   "metadata": {},
   "outputs": [],
   "source": [
    "varA._y"
   ]
  },
  {
   "cell_type": "code",
   "execution_count": null,
   "id": "25fa7e0a",
   "metadata": {},
   "outputs": [],
   "source": [
    "varA._x # ошибка"
   ]
  },
  {
   "cell_type": "code",
   "execution_count": null,
   "id": "02b0afba",
   "metadata": {},
   "outputs": [],
   "source": [
    "varA._A__x # обход ошибки, но так делать не следует!"
   ]
  },
  {
   "cell_type": "code",
   "execution_count": null,
   "id": "0d06bf02",
   "metadata": {},
   "outputs": [],
   "source": [
    "# Демонстрация/разница переменной класса и переменной экземпляра класса\n",
    "\n",
    "class ProgStaff:\n",
    "    companyName = 'Школа программирования'\n",
    "    \n",
    "    def __init__(self, pSalary):\n",
    "        self.salary = pSalary\n",
    "        \n",
    "    def printInfo(self):\n",
    "        print('Компания называется ', ProgStaff.companyName)\n",
    "        print('Зарплата составляет ', self.salary)\n",
    "        \n",
    "peter = ProgStaff(2500)\n",
    "john = ProgStaff(2500)"
   ]
  },
  {
   "cell_type": "code",
   "execution_count": null,
   "id": "9533e629",
   "metadata": {},
   "outputs": [],
   "source": [
    "print(peter.salary)\n",
    "print(john.salary)"
   ]
  },
  {
   "cell_type": "code",
   "execution_count": null,
   "id": "ebcfbc31",
   "metadata": {},
   "outputs": [],
   "source": [
    "ProgStaff.companyName = 'Лаборатория программирования'"
   ]
  },
  {
   "cell_type": "code",
   "execution_count": null,
   "id": "027b34ed",
   "metadata": {},
   "outputs": [],
   "source": [
    "ProgStaff.companyName"
   ]
  },
  {
   "cell_type": "code",
   "execution_count": null,
   "id": "dadb71eb",
   "metadata": {},
   "outputs": [],
   "source": [
    "print(peter.companyName)\n",
    "print(john.companyName)"
   ]
  },
  {
   "cell_type": "code",
   "execution_count": null,
   "id": "c5181da2",
   "metadata": {},
   "outputs": [],
   "source": [
    "peter.salary = 2700"
   ]
  },
  {
   "cell_type": "code",
   "execution_count": null,
   "id": "e951e889",
   "metadata": {},
   "outputs": [],
   "source": [
    "print(peter.salary)\n",
    "print(john.salary)"
   ]
  },
  {
   "cell_type": "code",
   "execution_count": null,
   "id": "e53a4ee7",
   "metadata": {},
   "outputs": [],
   "source": [
    "john.printInfo()"
   ]
  },
  {
   "cell_type": "code",
   "execution_count": null,
   "id": "f1f9d4cb",
   "metadata": {},
   "outputs": [],
   "source": [
    "ProgStaff.printInfo(john)"
   ]
  },
  {
   "cell_type": "code",
   "execution_count": null,
   "id": "f77fbd10",
   "metadata": {},
   "outputs": [],
   "source": [
    "ProgStaff.printInfo(john)"
   ]
  },
  {
   "cell_type": "code",
   "execution_count": null,
   "id": "824672d1",
   "metadata": {},
   "outputs": [],
   "source": []
  }
 ],
 "metadata": {
  "kernelspec": {
   "display_name": "Python 3",
   "language": "python",
   "name": "python3"
  },
  "language_info": {
   "codemirror_mode": {
    "name": "ipython",
    "version": 3
   },
   "file_extension": ".py",
   "mimetype": "text/x-python",
   "name": "python",
   "nbconvert_exporter": "python",
   "pygments_lexer": "ipython3",
   "version": "3.8.10"
  }
 },
 "nbformat": 4,
 "nbformat_minor": 5
}
