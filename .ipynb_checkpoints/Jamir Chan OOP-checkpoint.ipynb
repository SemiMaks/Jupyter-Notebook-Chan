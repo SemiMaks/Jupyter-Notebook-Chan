{
 "cells": [
  {
   "cell_type": "code",
   "execution_count": 4,
   "id": "de963748",
   "metadata": {},
   "outputs": [],
   "source": [
    "# Создание собственного класса\n",
    "'''\n",
    "class MyClass:\n",
    "    содержимое класса\n",
    "'''\n",
    "\n",
    "class Staff:\n",
    "    def __init__(self, pPosition, pName, pPay):\n",
    "        self.position = pPosition\n",
    "        self.name = pName\n",
    "        self.pay = pPay\n",
    "        print('Создание Staff объекта')\n",
    "        \n",
    "    def __str__(self):\n",
    "        return 'Позиция = %s, Name = %s, Выплата = %d'\n",
    "        %(self.position, self.name, self.pay)\n",
    "        \n",
    "    def calculatePay(self):\n",
    "        prompt = '\\nВведите число рабочих часов за неделю для %s:'\n",
    "        %(self.name)\n",
    "        hours = input(promt)\n",
    "        promt = '\\nВведите стоимость часа для %s:' %(self.name)\n",
    "        hourlyRate = int(input(prompt))\n",
    "        self.pay = int(hours) * hourlyRate\n",
    "        return self.pay\n"
   ]
  },
  {
   "cell_type": "code",
   "execution_count": null,
   "id": "be907919",
   "metadata": {},
   "outputs": [],
   "source": [
    "# Создание экземрляра класса\n",
    "\n"
   ]
  }
 ],
 "metadata": {
  "kernelspec": {
   "display_name": "Python 3 (ipykernel)",
   "language": "python",
   "name": "python3"
  },
  "language_info": {
   "codemirror_mode": {
    "name": "ipython",
    "version": 3
   },
   "file_extension": ".py",
   "mimetype": "text/x-python",
   "name": "python",
   "nbconvert_exporter": "python",
   "pygments_lexer": "ipython3",
   "version": "3.10.0"
  }
 },
 "nbformat": 4,
 "nbformat_minor": 5
}
