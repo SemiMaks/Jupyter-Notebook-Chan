{
 "cells": [
  {
   "cell_type": "code",
   "execution_count": 1,
   "id": "4fc17692",
   "metadata": {},
   "outputs": [
    {
     "name": "stdout",
     "output_type": "stream",
     "text": [
      "Текст после комментариев.\n"
     ]
    }
   ],
   "source": [
    "# однострочный комментарий\n",
    "'''\n",
    "многострочный комментарий\n",
    "'''\n",
    "print(\"Текст после комментариев.\")"
   ]
  },
  {
   "cell_type": "code",
   "execution_count": 2,
   "id": "da9c8f94",
   "metadata": {},
   "outputs": [
    {
     "name": "stdout",
     "output_type": "stream",
     "text": [
      "30 Name\n"
     ]
    }
   ],
   "source": [
    "# переменные\n",
    "userAge, userName = 30, 'Name'\n",
    "print(userAge, userName)"
   ]
  },
  {
   "cell_type": "code",
   "execution_count": 3,
   "id": "82ffcf9a",
   "metadata": {},
   "outputs": [
    {
     "data": {
      "text/plain": [
       "True"
      ]
     },
     "execution_count": 3,
     "metadata": {},
     "output_type": "execute_result"
    }
   ],
   "source": [
    "username = 'Names'\n",
    "userName != username"
   ]
  },
  {
   "cell_type": "code",
   "execution_count": 4,
   "id": "112a75da",
   "metadata": {},
   "outputs": [],
   "source": [
    "# верблюжийРегистр или символ_подчеркивания - два соглашения в именовании переменных и пр."
   ]
  },
  {
   "cell_type": "code",
   "execution_count": 5,
   "id": "d7760953",
   "metadata": {},
   "outputs": [
    {
     "name": "stdout",
     "output_type": "stream",
     "text": [
      "x =  10\n",
      "y =  10\n"
     ]
    }
   ],
   "source": [
    "x = 5\n",
    "y = 10\n",
    "x = y\n",
    "print('x = ',x)\n",
    "print('y = ', y)"
   ]
  },
  {
   "cell_type": "code",
   "execution_count": 6,
   "id": "15d60910",
   "metadata": {},
   "outputs": [
    {
     "name": "stdout",
     "output_type": "stream",
     "text": [
      "x =  5\n",
      "y =  5\n"
     ]
    }
   ],
   "source": [
    "x = 5\n",
    "y = 10\n",
    "y = x\n",
    "print('x = ',x)\n",
    "print('y = ', y)"
   ]
  },
  {
   "cell_type": "code",
   "execution_count": 18,
   "id": "9fd08358",
   "metadata": {},
   "outputs": [
    {
     "name": "stdout",
     "output_type": "stream",
     "text": [
      "x + y = 12\n",
      "x - y = 2\n",
      "x / y = 1.4\n",
      "x * y = 35\n",
      "x // y = 1\n",
      "x % y = 2\n",
      "x ** y = 16807\n"
     ]
    }
   ],
   "source": [
    "x, y = 7, 5\n",
    "print('x + y =', x + y)\n",
    "print('x - y =', x - y)\n",
    "print('x / y =', x / y)\n",
    "print('x * y =', x * y)\n",
    "print('x // y =', x // y)\n",
    "print('x % y =', x % y)\n",
    "print('x ** y =', x ** y)"
   ]
  },
  {
   "cell_type": "code",
   "execution_count": 20,
   "id": "55aebadb",
   "metadata": {},
   "outputs": [
    {
     "name": "stdout",
     "output_type": "stream",
     "text": [
      "x =  10\n",
      "y =  10\n"
     ]
    }
   ],
   "source": [
    "x = 5\n",
    "y = 5\n",
    "x = x + 5\n",
    "y += 5 # работает для всех 7 операторов из примера выше\n",
    "print('x = ', x)\n",
    "print('y = ', y)"
   ]
  },
  {
   "cell_type": "code",
   "execution_count": 3,
   "id": "f862a371",
   "metadata": {},
   "outputs": [
    {
     "name": "stdout",
     "output_type": "stream",
     "text": [
      "ALEXANDR\n"
     ]
    }
   ],
   "source": [
    "# тип данных относится к значению, которое хранит переменная\n",
    "userAge = 35\n",
    "userHeight = 1.82\n",
    "userName = 'Alexandr'\n",
    "userName = userName.upper()\n",
    "print(userName)"
   ]
  },
  {
   "cell_type": "code",
   "execution_count": 9,
   "id": "88aab456",
   "metadata": {},
   "outputs": [
    {
     "name": "stdout",
     "output_type": "stream",
     "text": [
      "The price of this Apple laptop is 1299 USD and the exchange rate is 1.24 USD to 1 EUR\n"
     ]
    }
   ],
   "source": [
    "# Форматирование строк посредством оператора %\n",
    "brand = 'Apple'\n",
    "exchangeRate = 1.235235245\n",
    "message = 'The price of this %s laptop is %d USD and the exchange rate is %4.2f USD to 1 EUR'%(brand, 1299, exchangeRate)\n",
    "print(message)"
   ]
  },
  {
   "cell_type": "code",
   "execution_count": 4,
   "id": "4b8f5ec4",
   "metadata": {},
   "outputs": [
    {
     "name": "stdout",
     "output_type": "stream",
     "text": [
      "The price of this April laptop is 1299 USD and the exchange rate is 1.24 USD to 1 EUR\n"
     ]
    }
   ],
   "source": [
    "# Форматирование посредством метода format()\n",
    "message = 'The price of this {0:s} laptop is {1:d} USD and the exchange rate is {2:4.2f} USD to 1 EUR'. format('April', 1299, 1.235235245)\n",
    "print (message)"
   ]
  },
  {
   "cell_type": "code",
   "execution_count": 5,
   "id": "95863a04",
   "metadata": {},
   "outputs": [
    {
     "name": "stdout",
     "output_type": "stream",
     "text": [
      "The price of this April laptop is 1299 USD and the exchange rate is 1.235235245 USD to 1 EUR\n"
     ]
    }
   ],
   "source": [
    "message = 'The price of this {} laptop is {} USD and the exchange rate is {} USD to 1 EUR'. format('April', 1299, 1.235235245)\n",
    "print (message)"
   ]
  },
  {
   "cell_type": "code",
   "execution_count": null,
   "id": "0e47bf6e",
   "metadata": {},
   "outputs": [],
   "source": []
  }
 ],
 "metadata": {
  "kernelspec": {
   "display_name": "Python 3",
   "language": "python",
   "name": "python3"
  },
  "language_info": {
   "codemirror_mode": {
    "name": "ipython",
    "version": 3
   },
   "file_extension": ".py",
   "mimetype": "text/x-python",
   "name": "python",
   "nbconvert_exporter": "python",
   "pygments_lexer": "ipython3",
   "version": "3.8.10"
  }
 },
 "nbformat": 4,
 "nbformat_minor": 5
}
