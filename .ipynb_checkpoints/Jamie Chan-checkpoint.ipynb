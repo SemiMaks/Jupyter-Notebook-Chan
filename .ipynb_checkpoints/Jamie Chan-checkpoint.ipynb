{
 "cells": [
  {
   "cell_type": "code",
   "execution_count": 1,
   "id": "4fc17692",
   "metadata": {},
   "outputs": [
    {
     "name": "stdout",
     "output_type": "stream",
     "text": [
      "Текст после комментариев.\n"
     ]
    }
   ],
   "source": [
    "# однострочный комментарий\n",
    "'''\n",
    "многострочный комментарий\n",
    "'''\n",
    "print(\"Текст после комментариев.\")"
   ]
  },
  {
   "cell_type": "code",
   "execution_count": 2,
   "id": "da9c8f94",
   "metadata": {},
   "outputs": [
    {
     "name": "stdout",
     "output_type": "stream",
     "text": [
      "30 Name\n"
     ]
    }
   ],
   "source": [
    "# переменные\n",
    "userAge, userName = 30, 'Name'\n",
    "print(userAge, userName)"
   ]
  },
  {
   "cell_type": "code",
   "execution_count": 3,
   "id": "82ffcf9a",
   "metadata": {},
   "outputs": [
    {
     "data": {
      "text/plain": [
       "True"
      ]
     },
     "execution_count": 3,
     "metadata": {},
     "output_type": "execute_result"
    }
   ],
   "source": [
    "username = 'Names'\n",
    "userName != username"
   ]
  },
  {
   "cell_type": "code",
   "execution_count": 4,
   "id": "112a75da",
   "metadata": {},
   "outputs": [],
   "source": [
    "# верблюжийРегистр или символ_подчеркивания - два соглашения в именовании переменных и пр."
   ]
  },
  {
   "cell_type": "code",
   "execution_count": 5,
   "id": "d7760953",
   "metadata": {},
   "outputs": [
    {
     "name": "stdout",
     "output_type": "stream",
     "text": [
      "x =  10\n",
      "y =  10\n"
     ]
    }
   ],
   "source": [
    "x = 5\n",
    "y = 10\n",
    "x = y\n",
    "print('x = ',x)\n",
    "print('y = ', y)"
   ]
  },
  {
   "cell_type": "code",
   "execution_count": 6,
   "id": "15d60910",
   "metadata": {},
   "outputs": [
    {
     "name": "stdout",
     "output_type": "stream",
     "text": [
      "x =  5\n",
      "y =  5\n"
     ]
    }
   ],
   "source": [
    "x = 5\n",
    "y = 10\n",
    "y = x\n",
    "print('x = ',x)\n",
    "print('y = ', y)"
   ]
  },
  {
   "cell_type": "code",
   "execution_count": 18,
   "id": "9fd08358",
   "metadata": {},
   "outputs": [
    {
     "name": "stdout",
     "output_type": "stream",
     "text": [
      "x + y = 12\n",
      "x - y = 2\n",
      "x / y = 1.4\n",
      "x * y = 35\n",
      "x // y = 1\n",
      "x % y = 2\n",
      "x ** y = 16807\n"
     ]
    }
   ],
   "source": [
    "x, y = 7, 5\n",
    "print('x + y =', x + y)\n",
    "print('x - y =', x - y)\n",
    "print('x / y =', x / y)\n",
    "print('x * y =', x * y)\n",
    "print('x // y =', x // y)\n",
    "print('x % y =', x % y)\n",
    "print('x ** y =', x ** y)"
   ]
  },
  {
   "cell_type": "code",
   "execution_count": 20,
   "id": "55aebadb",
   "metadata": {},
   "outputs": [
    {
     "name": "stdout",
     "output_type": "stream",
     "text": [
      "x =  10\n",
      "y =  10\n"
     ]
    }
   ],
   "source": [
    "x = 5\n",
    "y = 5\n",
    "x = x + 5\n",
    "y += 5 # работает для всех 7 операторов из примера выше\n",
    "print('x = ', x)\n",
    "print('y = ', y)"
   ]
  },
  {
   "cell_type": "code",
   "execution_count": 3,
   "id": "f862a371",
   "metadata": {},
   "outputs": [
    {
     "name": "stdout",
     "output_type": "stream",
     "text": [
      "ALEXANDR\n"
     ]
    }
   ],
   "source": [
    "# тип данных относится к значению, которое хранит переменная\n",
    "userAge = 35\n",
    "userHeight = 1.82\n",
    "userName = 'Alexandr'\n",
    "userName = userName.upper()\n",
    "print(userName)"
   ]
  },
  {
   "cell_type": "code",
   "execution_count": 9,
   "id": "88aab456",
   "metadata": {},
   "outputs": [
    {
     "name": "stdout",
     "output_type": "stream",
     "text": [
      "The price of this Apple laptop is 1299 USD and the exchange rate is 1.24 USD to 1 EUR\n"
     ]
    }
   ],
   "source": [
    "# Форматирование строк посредством оператора %\n",
    "brand = 'Apple'\n",
    "exchangeRate = 1.235235245\n",
    "message = 'The price of this %s laptop is %d USD and the exchange rate is %4.2f USD to 1 EUR'%(brand, 1299, exchangeRate)\n",
    "print(message)"
   ]
  },
  {
   "cell_type": "code",
   "execution_count": 4,
   "id": "4b8f5ec4",
   "metadata": {},
   "outputs": [
    {
     "name": "stdout",
     "output_type": "stream",
     "text": [
      "The price of this April laptop is 1299 USD and the exchange rate is 1.24 USD to 1 EUR\n"
     ]
    }
   ],
   "source": [
    "# Форматирование посредством метода format()\n",
    "message = 'The price of this {0:s} laptop is {1:d} USD and the exchange rate is {2:4.2f} USD to 1 EUR'. format('April', 1299, 1.235235245)\n",
    "print (message)"
   ]
  },
  {
   "cell_type": "code",
   "execution_count": 5,
   "id": "95863a04",
   "metadata": {},
   "outputs": [
    {
     "name": "stdout",
     "output_type": "stream",
     "text": [
      "The price of this April laptop is 1299 USD and the exchange rate is 1.235235245 USD to 1 EUR\n"
     ]
    }
   ],
   "source": [
    "message = 'The price of this {} laptop is {} USD and the exchange rate is {} USD to 1 EUR'. format('April', 1299, 1.235235245)\n",
    "print (message)"
   ]
  },
  {
   "cell_type": "code",
   "execution_count": 1,
   "id": "0e47bf6e",
   "metadata": {},
   "outputs": [
    {
     "data": {
      "text/plain": [
       "34"
      ]
     },
     "execution_count": 1,
     "metadata": {},
     "output_type": "execute_result"
    }
   ],
   "source": [
    "# Приведение типов (преобразование одного типа данных в другой)\n",
    "# есть 3 встроенные функции int(), float(), str()\n",
    "int(34.6)"
   ]
  },
  {
   "cell_type": "code",
   "execution_count": 39,
   "id": "bc45d8a2",
   "metadata": {},
   "outputs": [
    {
     "name": "stdout",
     "output_type": "stream",
     "text": [
      "['Sam', 'two', 'three', 'Max'] [15, 45, 70] [45]\n",
      "[15, 45, 1000]\n",
      "['105']\n",
      "[15, 45, 1000, '105']\n",
      "Удаляемый элемент: 105\n",
      "['105']\n"
     ]
    }
   ],
   "source": [
    "# Коллекции данных - Списки\n",
    "listNone = []                         # Определение пустого списка\n",
    "listName = ['one', 'two', 'three']\n",
    "userAge = [25, 45, 34]\n",
    "listName[0] = 'Sam'\n",
    "userAge[0] = 15\n",
    "userAge[-1] = 70\n",
    "userAge_2 = userAge[1:3:2]            # Срез списка (слайс)\n",
    "listName.append('Max')                # Добавление в список Мах\n",
    "print(listName, userAge, userAge_2)\n",
    "userAge [2] = 1000\n",
    "print(userAge)\n",
    "userAge_2.append('105')\n",
    "del userAge_2 [0]                     # Удаление из списка индекса 0\n",
    "print(userAge_2)\n",
    "userAge.extend(userAge_2)             # Расширение сптска userAge списком userAge_2\n",
    "print(userAge)\n",
    "56 in userAge                         # проверка на вхождение 56 в список userAge\n",
    "userAge.insert(1, 'Post')             # Вставка в список с указанием позиции\n",
    "len(userAge)                          # Длина списка- количество элементов\n",
    "element = userAge.pop(-1)             # Получение значение элемнта с его последующим удалением\n",
    "print('Удаляемый элемент:', element)\n",
    "new = sorted(userAge_2)\n",
    "print(new)"
   ]
  },
  {
   "cell_type": "code",
   "execution_count": 31,
   "id": "d021817d",
   "metadata": {},
   "outputs": [
    {
     "name": "stdout",
     "output_type": "stream",
     "text": [
      "() ('Jan', 'Feb', 'Mar', 'Apr', 'May', 'Jun', 'Jul', 'Aug', 'Sep', 'Oct', 'Nov', 'Dec')\n",
      "('Jan', 'Feb', 'Mar', 'Apr', 'May', 'Jun', 'Jul', 'Aug', 'Sep', 'Oct', 'Nov', 'Dec', 'Jan', 'Feb', 'Mar', 'Apr', 'May', 'Jun', 'Jul', 'Aug', 'Sep', 'Oct', 'Nov', 'Dec', 'Jan', 'Feb', 'Mar', 'Apr', 'May', 'Jun', 'Jul', 'Aug', 'Sep', 'Oct', 'Nov', 'Dec')\n"
     ]
    }
   ],
   "source": [
    "# Коллекции данных - Кортежи\n",
    "tupleName = ()\n",
    "monthsOfYear = ('Jan', 'Feb','Mar', 'Apr', 'May', 'Jun', 'Jul', 'Aug', 'Sep', 'Oct', 'Nov', 'Dec')\n",
    "print(tupleName, monthsOfYear)\n",
    "print(monthsOfYear * 3)"
   ]
  },
  {
   "cell_type": "code",
   "execution_count": 49,
   "id": "7e6bdc3c",
   "metadata": {},
   "outputs": [
    {
     "name": "stdout",
     "output_type": "stream",
     "text": [
      "{'Peter': 38, 'Ane': 18, 'Jon': 23} {'Max': 40, 'Alex': 45}\n",
      "{'Max': 40, 'Alex': 47}\n",
      "{'Max': 40}\n"
     ]
    }
   ],
   "source": [
    "# Словари\n",
    "dictoriName = {}             \n",
    "userNameAge = dict(Max =  40, Alex = 45)                       # Объявление словаря\n",
    "myDictionary = {'Peter': 38, 'Ane': 18, 'Jon': 23}\n",
    "print(myDictionary, userNameAge)\n",
    "userNameAge['Max']\n",
    "userNameAge['Alex'] = 47\n",
    "print(userNameAge)\n",
    "del userNameAge['Alex']\n",
    "print(userNameAge)"
   ]
  },
  {
   "cell_type": "code",
   "execution_count": 63,
   "id": "0637212e",
   "metadata": {},
   "outputs": [
    {
     "name": "stdout",
     "output_type": "stream",
     "text": [
      "Как ваше имя?1\n",
      "А сколько лет?1\n",
      "Привет 1! Тебе действительно 1 лет?\n",
      "Привет 1! Тебе действительно 1 лет?\n",
      "Привет 1! Тебе действительно 1 лет?\n",
      "\n",
      "Это преддложение\n",
      "разделено \n",
      "на\n",
      "три строки (четыре- экранированный спецсимвол))!\n",
      "\n",
      "Это преддложение\n",
      "разделено \\nна\n",
      "три строки (четыре- экранированный спецсимвол))!\n"
     ]
    }
   ],
   "source": [
    "# Интерактивность\n",
    "myName = input(\"Как ваше имя?\")\n",
    "myAge = input(\"А сколько лет?\")\n",
    "print(f\"Привет {myName}! Тебе действительно {myAge} лет?\")           # интерполяция f-строки\n",
    "print(\"Привет %s! Тебе действительно %s лет?\"% (myName, myAge))      # с использованием заполнителя %\n",
    "print(\"Привет {}! Тебе действительно {} лет?\".format(myName, myAge)) # с помощью метода format\n",
    "print('''\n",
    "Это преддложение\n",
    "разделено \\nна\n",
    "три строки (четыре- экранированный спецсимвол))!''')\n",
    "print(r'''\n",
    "Это преддложение\n",
    "разделено \\nна\n",
    "три строки (четыре- экранированный спецсимвол))!''') # r позволяет печатать спецсимволы"
   ]
  },
  {
   "cell_type": "code",
   "execution_count": 70,
   "id": "27e02d63",
   "metadata": {},
   "outputs": [
    {
     "name": "stdout",
     "output_type": "stream",
     "text": [
      "False\n",
      "True\n",
      "True\n",
      "False\n",
      "True\n",
      "False\n",
      "False\n",
      "True\n",
      "True\n",
      "False\n"
     ]
    }
   ],
   "source": [
    "# Управляющие команды и операторы сравнения\n",
    "print(5 == 2)\n",
    "print(5 != 2)\n",
    "print(5 > 2)\n",
    "print(5 < 2)\n",
    "print(5 >= 2)\n",
    "print(5 <= 2)\n",
    "print(5 == 2 and 2 == 5)\n",
    "print(5 > 2 and 2 < 5)\n",
    "print(5 > 2 or 2 < 5)\n",
    "print(not True)"
   ]
  },
  {
   "cell_type": "code",
   "execution_count": 2,
   "id": "026ce601",
   "metadata": {},
   "outputs": [
    {
     "name": "stdout",
     "output_type": "stream",
     "text": [
      "Введите 1 или 2:6\n",
      "Вы ввели:  6\n"
     ]
    }
   ],
   "source": [
    "userInput = input(\"Введите 1 или 2:\")\n",
    "if  userInput == 1:\n",
    "    print(\"Вы ввели 1\")\n",
    "elif userInput == 2:\n",
    "    print(\"Вы ввели 2\")\n",
    "else:\n",
    "    print(\"Вы ввели: \", userInput)"
   ]
  },
  {
   "cell_type": "code",
   "execution_count": 4,
   "id": "9e15d39d",
   "metadata": {},
   "outputs": [
    {
     "name": "stdout",
     "output_type": "stream",
     "text": [
      "Введите число от 0 до 5: 2\n",
      "10\n",
      "Вариант Б\n"
     ]
    }
   ],
   "source": [
    "# инлайновый if\n",
    "num = 0\n",
    "number = int(input(\"Введите число от 0 до 5: \"))\n",
    "num = 5 if number == 1 else 10\n",
    "print(num)\n",
    "\n",
    "print(\"Вариант А\" if number==3 else \"Вариант Б\")"
   ]
  },
  {
   "cell_type": "code",
   "execution_count": 11,
   "id": "786120ec",
   "metadata": {},
   "outputs": [
    {
     "name": "stdout",
     "output_type": "stream",
     "text": [
      "cats\n",
      "dogs\n",
      "rabbits\n",
      "hamsters\n",
      "-----\n",
      "1 cats\n",
      "2 dogs\n",
      "3 rabbits\n",
      "4 hamsters\n",
      "-----\n"
     ]
    }
   ],
   "source": [
    "# Цикл for\n",
    "\"\"\"\n",
    "for a in iterable:\n",
    "    print(a)\n",
    "\"\"\"\n",
    "br = '-----'\n",
    "pets = ['cats', 'dogs', 'rabbits', 'hamsters']\n",
    "for myPets in pets:                            # вывод списка\n",
    "    print(myPets)\n",
    "print(br)\n",
    "    \n",
    "for index, myPets in enumerate(pets):          # вывод списка с нумерацией\n",
    "    print(index+1, myPets)                     # по умолчанию нумерация начинается с 0\n",
    "print(br)"
   ]
  },
  {
   "cell_type": "code",
   "execution_count": 20,
   "id": "853467b4",
   "metadata": {},
   "outputs": [
    {
     "name": "stdout",
     "output_type": "stream",
     "text": [
      "Имя: = Максим, Возраст: = 40\n",
      "Имя: = Оля, Возраст: = 38\n",
      "-----\n"
     ]
    }
   ],
   "source": [
    "age = {'Максим': 40, 'Оля': 38}\n",
    "for i in age:\n",
    "    print(\"Имя: = %s, Возраст: = %d\" %(i, age[i]))\n",
    "print(br)"
   ]
  },
  {
   "cell_type": "code",
   "execution_count": 23,
   "id": "ab3ba67f",
   "metadata": {},
   "outputs": [
    {
     "name": "stdout",
     "output_type": "stream",
     "text": [
      "Макс 40\n",
      "Ольга 38\n",
      "Имя: = Макс, Возраст: = 40\n",
      "Имя: = Ольга, Возраст: = 38\n"
     ]
    }
   ],
   "source": [
    "age = {'Макс': 40, 'Ольга': 38}\n",
    "for i, j in age.items():\n",
    "    print(i, j)\n",
    "    \n",
    "for i, j in age.items():\n",
    "    print(\"Имя: = %s, Возраст: = %d\" %(i, j))"
   ]
  },
  {
   "cell_type": "code",
   "execution_count": 24,
   "id": "9b73d026",
   "metadata": {},
   "outputs": [
    {
     "name": "stdout",
     "output_type": "stream",
     "text": [
      "П\n",
      "р\n",
      "и\n",
      "в\n",
      "е\n",
      "т\n",
      "!\n"
     ]
    }
   ],
   "source": [
    "message = 'Привет!'\n",
    "for i in message:\n",
    "    print(i)"
   ]
  },
  {
   "cell_type": "code",
   "execution_count": 31,
   "id": "15c669a8",
   "metadata": {},
   "outputs": [
    {
     "name": "stdout",
     "output_type": "stream",
     "text": [
      "0\n",
      "1\n",
      "2\n",
      "3\n",
      "4\n",
      "-----\n",
      "2\n",
      "3\n",
      "4\n",
      "-----\n",
      "2\n",
      "4\n",
      "-----\n"
     ]
    }
   ],
   "source": [
    "# Перебор числовой последовательности\n",
    "'''\n",
    "Встроенная функция range() генрирует список чисел\n",
    "range(начало, конец, шаг)\n",
    "По умолчанию начинает с 0 и шаг равен 1\n",
    "'''\n",
    "ls = range(5)\n",
    "for i in ls:\n",
    "    print(i)\n",
    "print(br)\n",
    "\n",
    "ls = range(2, 5)\n",
    "for i in ls:\n",
    "    print(i)\n",
    "print(br)\n",
    "\n",
    "ls = range(2, 5, 2)\n",
    "for i in ls:\n",
    "    print(i)\n",
    "print(br)"
   ]
  },
  {
   "cell_type": "code",
   "execution_count": 35,
   "id": "e2171e15",
   "metadata": {},
   "outputs": [
    {
     "name": "stdout",
     "output_type": "stream",
     "text": [
      "Счётчик:  0\n",
      "Счётчик:  1\n",
      "Счётчик:  2\n",
      "Счётчик:  3\n",
      "Счётчик:  4\n",
      "-----\n",
      "Счётчик:  5\n",
      "Счётчик:  4\n",
      "Счётчик:  3\n",
      "Счётчик:  2\n",
      "Счётчик:  1\n",
      "-----\n"
     ]
    }
   ],
   "source": [
    "# Цикл While\n",
    "'''\n",
    "while условие истинно:\n",
    "    команда А\n",
    "'''\n",
    "counter = 0\n",
    "while counter < 5:\n",
    "    print('Счётчик: ', counter)\n",
    "    counter+=1\n",
    "print(br)\n",
    "\n",
    "counter = 5\n",
    "while counter > 0:\n",
    "    print('Счётчик: ', counter)\n",
    "    counter-=1\n",
    "print(br)"
   ]
  },
  {
   "cell_type": "code",
   "execution_count": 11,
   "id": "40576bd5",
   "metadata": {},
   "outputs": [
    {
     "name": "stdout",
     "output_type": "stream",
     "text": [
      "0\n",
      "3\n",
      "----------\n",
      "i= 0 , j= 1\n",
      "i= 1 , j= 2\n",
      "i= 2 , j= 3\n",
      "i= 3 , j= 4\n"
     ]
    }
   ],
   "source": [
    "# Прерывание цикла BREAK\n",
    "br = '----------'\n",
    "count = 0\n",
    "while count < 10:\n",
    "    print(count)\n",
    "    count+=3\n",
    "    if count == 6:\n",
    "        break\n",
    "print(br)        \n",
    "        \n",
    "j=0\n",
    "for i in range(10):\n",
    "    j+=1\n",
    "    print('i=', i, ', j=', j)\n",
    "    if i == 3:\n",
    "        break"
   ]
  },
  {
   "cell_type": "code",
   "execution_count": 24,
   "id": "2f17aab2",
   "metadata": {},
   "outputs": [
    {
     "name": "stdout",
     "output_type": "stream",
     "text": [
      "----------\n",
      "Итерация  1\n",
      "Проход номер  1\n",
      "----------\n",
      "Итерация  2\n",
      "Проход номер  2\n",
      "----------\n",
      "Итерация  3\n",
      "Совпадение\n",
      "----------\n",
      "Итерация  4\n",
      "Проход номер  4\n",
      "----------\n",
      "Итерация  5\n",
      "Проход номер  5\n"
     ]
    }
   ],
   "source": [
    "# Пропуск для текущей итерации, CONTINUE\n",
    "i = 0\n",
    "j = range(5)\n",
    "for i in j:\n",
    "    i+=1\n",
    "    print(br)\n",
    "    print('Итерация ', i)\n",
    "    if i == 3:\n",
    "        print('Совпадение')\n",
    "        continue\n",
    "    print('Проход номер ', i)"
   ]
  },
  {
   "cell_type": "code",
   "execution_count": 26,
   "id": "af26885e",
   "metadata": {},
   "outputs": [
    {
     "name": "stdout",
     "output_type": "stream",
     "text": [
      "На ноль делить нельзя!\n"
     ]
    }
   ],
   "source": [
    "# Try/Except\n",
    "'''\n",
    "try:\n",
    "    что-то делаем\n",
    "except:\n",
    "    делаем другое в случае ошибки\n",
    "'''\n",
    "try:\n",
    "    answer = 12/0\n",
    "    print(answer)\n",
    "except:\n",
    "    print('На ноль делить нельзя!')"
   ]
  },
  {
   "cell_type": "code",
   "execution_count": 32,
   "id": "cc2a9a97",
   "metadata": {},
   "outputs": [
    {
     "name": "stdout",
     "output_type": "stream",
     "text": [
      "Введите первое число: 6\n",
      "Введите второе число: 4\n",
      "Искомое число равно  1.5\n",
      "Неизвестная ошибка [Errno 2] No such file or directory: 'missing.txt'\n"
     ]
    }
   ],
   "source": [
    "'''\n",
    "IOError, ImportError, IndexError, KeyError, NameError, TypeError....\n",
    "https://docs.python.org/3/library/exceptions.html.\n",
    "'''\n",
    "try:\n",
    "    number1 = int(input('Введите первое число: '))\n",
    "    number2 = int(input('Введите второе число: '))\n",
    "    answer = number1 / number2\n",
    "    print('Искомое число равно ', answer)\n",
    "    myFile = open(\"missing.txt\", 'r')\n",
    "except ValueError:\n",
    "    print('Ошибка! Ввели не число!')\n",
    "except ZeroDivisionError:\n",
    "    print('Ошибка! На ноль делить нельзя!')\n",
    "except Exception as e:\n",
    "    print('Неизвестная ошибка', e)"
   ]
  },
  {
   "cell_type": "code",
   "execution_count": 36,
   "id": "ecccaf45",
   "metadata": {},
   "outputs": [
    {
     "name": "stdout",
     "output_type": "stream",
     "text": [
      "Hello world\n",
      "Hello university\n"
     ]
    }
   ],
   "source": [
    "# Функции и модули\n",
    "newString = 'Hello world'\n",
    "print(newString)\n",
    "newString = newString.replace('world', 'universe')\n",
    "print(newString)"
   ]
  },
  {
   "cell_type": "code",
   "execution_count": 53,
   "id": "347957da",
   "metadata": {},
   "outputs": [
    {
     "name": "stdout",
     "output_type": "stream",
     "text": [
      "2\n",
      "3\n",
      "4\n",
      "5\n",
      "6\n",
      "7\n",
      "8\n",
      "9\n",
      "10\n",
      "11\n",
      "12\n",
      "True\n"
     ]
    }
   ],
   "source": [
    "'''\n",
    "Определение собственных функций\n",
    "def functionName(список параметров):\n",
    "    код операций, выполняемых функцией\n",
    "    return [выражение]\n",
    "'''\n",
    "# является ли число простым\n",
    "def chekIfPrime(numberToCheck):\n",
    "    for x in range(2, numberToCheck):\n",
    "        print(x)\n",
    "        if (numberToCheck%x == 0):\n",
    "            return False\n",
    "    return True\n",
    "\n",
    "answer = chekIfPrime(13)\n",
    "print(answer)"
   ]
  },
  {
   "cell_type": "code",
   "execution_count": 58,
   "id": "853c1536",
   "metadata": {},
   "outputs": [
    {
     "name": "stdout",
     "output_type": "stream",
     "text": [
      "\n",
      "ВНУТРЕННЯЯ ФУНКЦИЯ:\n",
      "Переназначенная Глобальная переменная\n",
      "Локальная переменная\n",
      "\n",
      "ВНЕШНЯЯ ФУНКЦИЯ:\n",
      "Глобальная переменная\n",
      "...локальная переменная извне не доступна!\n"
     ]
    },
    {
     "ename": "NameError",
     "evalue": "name 'message_new' is not defined",
     "output_type": "error",
     "traceback": [
      "\u001b[1;31m---------------------------------------------------------------------------\u001b[0m",
      "\u001b[1;31mNameError\u001b[0m                                 Traceback (most recent call last)",
      "Input \u001b[1;32mIn [58]\u001b[0m, in \u001b[0;36m<cell line: 16>\u001b[1;34m()\u001b[0m\n\u001b[0;32m     14\u001b[0m \u001b[38;5;28mprint\u001b[39m(message)\n\u001b[0;32m     15\u001b[0m \u001b[38;5;28mprint\u001b[39m(\u001b[38;5;124m'\u001b[39m\u001b[38;5;124m...локальная переменная извне не доступна!\u001b[39m\u001b[38;5;124m'\u001b[39m)\n\u001b[1;32m---> 16\u001b[0m \u001b[38;5;28mprint\u001b[39m(\u001b[43mmessage_new\u001b[49m)\n",
      "\u001b[1;31mNameError\u001b[0m: name 'message_new' is not defined"
     ]
    }
   ],
   "source": [
    "# Область видимости переменных\n",
    "'''\n",
    "Глобальные и локальные переменные\n",
    "'''\n",
    "message = 'Глобальная переменная'\n",
    "def myFunction():\n",
    "    print('\\nВНУТРЕННЯЯ ФУНКЦИЯ:')\n",
    "    print('Переназначенная', message)\n",
    "    message_new = 'Локальная переменная'\n",
    "    print(message_new)\n",
    "    \n",
    "myFunction()\n",
    "print('\\nВНЕШНЯЯ ФУНКЦИЯ:')\n",
    "print(message)\n",
    "print('...локальная переменная извне не доступна!')\n",
    "print(message_new)"
   ]
  },
  {
   "cell_type": "code",
   "execution_count": 62,
   "id": "b77fdbe4",
   "metadata": {},
   "outputs": [
    {
     "name": "stdout",
     "output_type": "stream",
     "text": [
      "10 20 1 2 3\n",
      "5 6 7 2 3\n"
     ]
    },
    {
     "ename": "TypeError",
     "evalue": "someFunction() missing 2 required positional arguments: 'a' and 'b'",
     "output_type": "error",
     "traceback": [
      "\u001b[1;31m---------------------------------------------------------------------------\u001b[0m",
      "\u001b[1;31mTypeError\u001b[0m                                 Traceback (most recent call last)",
      "Input \u001b[1;32mIn [62]\u001b[0m, in \u001b[0;36m<cell line: 7>\u001b[1;34m()\u001b[0m\n\u001b[0;32m      5\u001b[0m someFunction(\u001b[38;5;241m10\u001b[39m, \u001b[38;5;241m20\u001b[39m)\n\u001b[0;32m      6\u001b[0m someFunction(\u001b[38;5;241m5\u001b[39m,\u001b[38;5;241m6\u001b[39m,\u001b[38;5;241m7\u001b[39m)\n\u001b[1;32m----> 7\u001b[0m \u001b[43msomeFunction\u001b[49m\u001b[43m(\u001b[49m\u001b[43m)\u001b[49m\n",
      "\u001b[1;31mTypeError\u001b[0m: someFunction() missing 2 required positional arguments: 'a' and 'b'"
     ]
    }
   ],
   "source": [
    "# Значения параметров по умолчанию\n",
    "def someFunction(a, b, c=1, d=2, e=3):\n",
    "    print(a, b, c, d, e)\n",
    "    \n",
    "someFunction(10, 20)\n",
    "someFunction(5,6,7)\n",
    "someFunction() # ошибка, нет параметров a, b"
   ]
  },
  {
   "cell_type": "code",
   "execution_count": 63,
   "id": "7bb56146",
   "metadata": {},
   "outputs": [
    {
     "name": "stdout",
     "output_type": "stream",
     "text": [
      "14\n"
     ]
    }
   ],
   "source": [
    "# Списки аргументов переменной длины\n",
    "'''\n",
    "Список аргументов переменной длинны без ключевых слов\n",
    "'''\n",
    "def addNumbers(*num):\n",
    "    sum = 0\n",
    "    for i in num:\n",
    "        sum = i + sum\n",
    "    print(sum)\n",
    "    \n",
    "addNumbers(1, 5, 8)        "
   ]
  },
  {
   "cell_type": "code",
   "execution_count": 73,
   "id": "dcb72e75",
   "metadata": {},
   "outputs": [
    {
     "name": "stdout",
     "output_type": "stream",
     "text": [
      "Name=Peter, Age=5\n",
      "Name=John, Age=7\n"
     ]
    }
   ],
   "source": [
    "'''\n",
    "Список аргументов переменной длинны c ключевыми словоми\n",
    "'''\n",
    "def printMemberAge(**age):\n",
    "    for i, j in age.items():\n",
    "        print(\"Name=%s, Age=%s\" %(i,j))\n",
    "        \n",
    "printMemberAge(Peter =5, John = 7)"
   ]
  },
  {
   "cell_type": "code",
   "execution_count": 76,
   "id": "02f591a8",
   "metadata": {},
   "outputs": [
    {
     "name": "stdout",
     "output_type": "stream",
     "text": [
      "{'kwargs_1': 'Shark', 'kwargs_2': 4.5, 'kwargs_3': True}\n",
      "{}\n"
     ]
    }
   ],
   "source": [
    "def print_kwargs(**kwargs):\n",
    "        print(kwargs)\n",
    " \n",
    "print_kwargs(kwargs_1=\"Shark\", kwargs_2=4.5, kwargs_3=True)\n",
    "\n",
    "print_kwargs()"
   ]
  },
  {
   "cell_type": "code",
   "execution_count": 77,
   "id": "e03b7ee1",
   "metadata": {},
   "outputs": [],
   "source": [
    "# Импортирование модулей\n",
    "'''\n",
    "1. import имя модуля\n",
    "import random\n",
    "randon.randrange(1,10)\n",
    "\n",
    "2. import randon as r\n",
    "r.randrange(1,10)\n",
    "\n",
    "3. from имяМодуля import имя1[, имя2[, ...имяN]]\n",
    "from random import randrange, randint\n",
    "randrange(1,10)\n",
    "'''\n",
    "\n",
    "import sys\n",
    "if 'C:\\\\MyPythonModules' not in sys.path:\n",
    "    sys.path.append('C:\\\\MyPythonModules')\n",
    "    \n",
    "# sys.path представляет системный путь python"
   ]
  },
  {
   "cell_type": "code",
   "execution_count": 10,
   "id": "b8727e58",
   "metadata": {},
   "outputs": [
    {
     "name": "stdout",
     "output_type": "stream",
     "text": [
      "Простой текст для открытия в программе на Python.\n",
      "Вторая строка для чтения."
     ]
    },
    {
     "data": {
      "text/plain": [
       "<function TextIOWrapper.close()>"
      ]
     },
     "execution_count": 10,
     "metadata": {},
     "output_type": "execute_result"
    }
   ],
   "source": [
    "# Работа с файлами\n",
    "# В пути к файлу двойные слэши!\n",
    "\n",
    "f = open ('C:\\\\WORKS\\Jupyter-Notebook-Chan\\\\text.txt', 'r', encoding='UTF-8')\n",
    "\n",
    "firstline = f.readline()\n",
    "secondline = f.readline()\n",
    "print(firstline, end='') # убираем дополнительные пустые строки, вставляемые readline()\n",
    "print(secondline, end='')\n",
    "\n",
    "f.close  # обязательно закрываем файл, освобождаем системные ресурсы"
   ]
  },
  {
   "cell_type": "code",
   "execution_count": 17,
   "id": "2ea681ab",
   "metadata": {},
   "outputs": [
    {
     "name": "stdout",
     "output_type": "stream",
     "text": [
      "Простой текст для открытия в программе на Python.\n",
      "Вторая строка для чтения.\n",
      "Эта строка добавлена!\n",
      "И эта тоже)"
     ]
    }
   ],
   "source": [
    "# Чтение файла в цикле for\n",
    "\n",
    "file = open('text.txt', 'r', encoding='UTF-8')\n",
    "\n",
    "for line in file:\n",
    "    print(line, end='')\n",
    "    \n",
    "f.close()"
   ]
  },
  {
   "cell_type": "code",
   "execution_count": 16,
   "id": "09a85178",
   "metadata": {},
   "outputs": [],
   "source": [
    "# Добавляем запись в имеющийся файл\n",
    "\n",
    "f = open('text.txt', 'a', encoding='UTF-8')\n",
    "\n",
    "f.write('\\nЭта строка добавлена!')\n",
    "f.write('\\nИ эта тоже)')\n",
    "\n",
    "f.close()"
   ]
  },
  {
   "cell_type": "code",
   "execution_count": 27,
   "id": "c52da874",
   "metadata": {},
   "outputs": [],
   "source": [
    "# Открытие и чтение текстовых файлов в буфер\n",
    "\n",
    "inputFile = open('text.txt', 'r', encoding='UTF-8')\n",
    "outputFile = open('newtext.txt', 'w', encoding='UTF-8')\n",
    "\n",
    "for l in inputFile:\n",
    "    outputFile.write(l)\n",
    "    \n",
    "inputFile.close()\n",
    "outputFile.close()"
   ]
  },
  {
   "cell_type": "code",
   "execution_count": 37,
   "id": "0be20469",
   "metadata": {},
   "outputs": [
    {
     "name": "stdout",
     "output_type": "stream",
     "text": [
      "Простой текст для открытия в программе на Python.\n",
      "Вторая строка для чтения.\n",
      "Эта строка добавлена!\n",
      "И эта тоже)"
     ]
    }
   ],
   "source": [
    "file = open('newtext.txt', 'r', encoding='UTF-8')\n",
    "\n",
    "for line in file:\n",
    "    print(line, end='')\n",
    "    \n",
    "f.close()"
   ]
  },
  {
   "cell_type": "code",
   "execution_count": 34,
   "id": "3cdd1f83",
   "metadata": {},
   "outputs": [],
   "source": [
    "# Открытие и чтение текстовых файлов в буфер: 'a', 'r', 'w', 'r+'\n",
    "\n",
    "inputFile = open('text.txt', 'r', encoding='UTF-8')\n",
    "outputFile = open('newtext.txt', 'w', encoding='UTF-8')\n",
    "\n",
    "msg = inputFile.read(10)   # 10 байт\n",
    "\n",
    "while len(msg):\n",
    "    outputFile.write(msg + '\\n')\n",
    "    msg = inputFile.read(10)\n",
    "    \n",
    "inputFile.close()\n",
    "outputFile.close()"
   ]
  },
  {
   "cell_type": "code",
   "execution_count": 38,
   "id": "e78ca4b0",
   "metadata": {},
   "outputs": [
    {
     "ename": "FileNotFoundError",
     "evalue": "[Errno 2] No such file or directory: 'kod.jpg'",
     "output_type": "error",
     "traceback": [
      "\u001b[1;31m---------------------------------------------------------------------------\u001b[0m",
      "\u001b[1;31mFileNotFoundError\u001b[0m                         Traceback (most recent call last)",
      "Input \u001b[1;32mIn [38]\u001b[0m, in \u001b[0;36m<cell line: 3>\u001b[1;34m()\u001b[0m\n\u001b[0;32m      1\u001b[0m \u001b[38;5;66;03m# Открытие, чтение и запись двоичных файлов: 'rb' 'wb'\u001b[39;00m\n\u001b[1;32m----> 3\u001b[0m inputFile \u001b[38;5;241m=\u001b[39m \u001b[38;5;28;43mopen\u001b[39;49m\u001b[43m(\u001b[49m\u001b[38;5;124;43m'\u001b[39;49m\u001b[38;5;124;43mkod.jpg\u001b[39;49m\u001b[38;5;124;43m'\u001b[39;49m\u001b[43m,\u001b[49m\u001b[43m \u001b[49m\u001b[38;5;124;43m'\u001b[39;49m\u001b[38;5;124;43mrb\u001b[39;49m\u001b[38;5;124;43m'\u001b[39;49m\u001b[43m)\u001b[49m\n\u001b[0;32m      4\u001b[0m outputFile \u001b[38;5;241m=\u001b[39m \u001b[38;5;28mopen\u001b[39m(\u001b[38;5;124m'\u001b[39m\u001b[38;5;124mnewkod.jpg\u001b[39m\u001b[38;5;124m'\u001b[39m, \u001b[38;5;124m'\u001b[39m\u001b[38;5;124mwb\u001b[39m\u001b[38;5;124m'\u001b[39m)\n\u001b[0;32m      6\u001b[0m msg \u001b[38;5;241m=\u001b[39m inputFile\u001b[38;5;241m.\u001b[39mread(\u001b[38;5;241m10\u001b[39m)   \u001b[38;5;66;03m# 10 байт\u001b[39;00m\n",
      "\u001b[1;31mFileNotFoundError\u001b[0m: [Errno 2] No such file or directory: 'kod.jpg'"
     ]
    }
   ],
   "source": [
    "# Открытие, чтение и запись двоичных файлов: 'rb' 'wb'\n",
    "\n",
    "inputFile = open('kod.jpeg', 'rb')\n",
    "outputFile = open('newkod.jpeg', 'wb')\n",
    "\n",
    "msg = inputFile.read(10)   # 10 байт\n",
    "\n",
    "while len(msg):\n",
    "    outputFile.write(msg)\n",
    "    msg = inputFile.read(10)\n",
    "    \n",
    "inputFile.close()\n",
    "outputFile.close()"
   ]
  },
  {
   "cell_type": "code",
   "execution_count": null,
   "id": "c9eaa6ba",
   "metadata": {},
   "outputs": [],
   "source": []
  }
 ],
 "metadata": {
  "kernelspec": {
   "display_name": "Python 3 (ipykernel)",
   "language": "python",
   "name": "python3"
  },
  "language_info": {
   "codemirror_mode": {
    "name": "ipython",
    "version": 3
   },
   "file_extension": ".py",
   "mimetype": "text/x-python",
   "name": "python",
   "nbconvert_exporter": "python",
   "pygments_lexer": "ipython3",
   "version": "3.10.0"
  }
 },
 "nbformat": 4,
 "nbformat_minor": 5
}
