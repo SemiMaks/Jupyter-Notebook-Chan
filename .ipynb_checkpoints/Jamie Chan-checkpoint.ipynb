{
 "cells": [
  {
   "cell_type": "code",
   "execution_count": 1,
   "id": "4fc17692",
   "metadata": {},
   "outputs": [
    {
     "name": "stdout",
     "output_type": "stream",
     "text": [
      "Текст после комментариев.\n"
     ]
    }
   ],
   "source": [
    "# однострочный комментарий\n",
    "'''\n",
    "многострочный комментарий\n",
    "'''\n",
    "print(\"Текст после комментариев.\")"
   ]
  },
  {
   "cell_type": "code",
   "execution_count": 2,
   "id": "da9c8f94",
   "metadata": {},
   "outputs": [
    {
     "name": "stdout",
     "output_type": "stream",
     "text": [
      "30 Name\n"
     ]
    }
   ],
   "source": [
    "# переменные\n",
    "userAge, userName = 30, 'Name'\n",
    "print(userAge, userName)"
   ]
  },
  {
   "cell_type": "code",
   "execution_count": 3,
   "id": "82ffcf9a",
   "metadata": {},
   "outputs": [
    {
     "data": {
      "text/plain": [
       "True"
      ]
     },
     "execution_count": 3,
     "metadata": {},
     "output_type": "execute_result"
    }
   ],
   "source": [
    "username = 'Names'\n",
    "userName != username"
   ]
  },
  {
   "cell_type": "code",
   "execution_count": 4,
   "id": "112a75da",
   "metadata": {},
   "outputs": [],
   "source": [
    "# верблюжийРегистр или символ_подчеркивания - два соглашения в именовании переменных и пр."
   ]
  },
  {
   "cell_type": "code",
   "execution_count": 5,
   "id": "d7760953",
   "metadata": {},
   "outputs": [
    {
     "name": "stdout",
     "output_type": "stream",
     "text": [
      "x =  10\n",
      "y =  10\n"
     ]
    }
   ],
   "source": [
    "x = 5\n",
    "y = 10\n",
    "x = y\n",
    "print('x = ',x)\n",
    "print('y = ', y)"
   ]
  },
  {
   "cell_type": "code",
   "execution_count": 6,
   "id": "15d60910",
   "metadata": {},
   "outputs": [
    {
     "name": "stdout",
     "output_type": "stream",
     "text": [
      "x =  5\n",
      "y =  5\n"
     ]
    }
   ],
   "source": [
    "x = 5\n",
    "y = 10\n",
    "y = x\n",
    "print('x = ',x)\n",
    "print('y = ', y)"
   ]
  },
  {
   "cell_type": "code",
   "execution_count": 18,
   "id": "9fd08358",
   "metadata": {},
   "outputs": [
    {
     "name": "stdout",
     "output_type": "stream",
     "text": [
      "x + y = 12\n",
      "x - y = 2\n",
      "x / y = 1.4\n",
      "x * y = 35\n",
      "x // y = 1\n",
      "x % y = 2\n",
      "x ** y = 16807\n"
     ]
    }
   ],
   "source": [
    "x, y = 7, 5\n",
    "print('x + y =', x + y)\n",
    "print('x - y =', x - y)\n",
    "print('x / y =', x / y)\n",
    "print('x * y =', x * y)\n",
    "print('x // y =', x // y)\n",
    "print('x % y =', x % y)\n",
    "print('x ** y =', x ** y)"
   ]
  },
  {
   "cell_type": "code",
   "execution_count": 20,
   "id": "55aebadb",
   "metadata": {},
   "outputs": [
    {
     "name": "stdout",
     "output_type": "stream",
     "text": [
      "x =  10\n",
      "y =  10\n"
     ]
    }
   ],
   "source": [
    "x = 5\n",
    "y = 5\n",
    "x = x + 5\n",
    "y += 5 # работает для всех 7 операторов из примера выше\n",
    "print('x = ', x)\n",
    "print('y = ', y)"
   ]
  },
  {
   "cell_type": "code",
   "execution_count": null,
   "id": "f862a371",
   "metadata": {},
   "outputs": [],
   "source": []
  }
 ],
 "metadata": {
  "kernelspec": {
   "display_name": "Python 3",
   "language": "python",
   "name": "python3"
  },
  "language_info": {
   "codemirror_mode": {
    "name": "ipython",
    "version": 3
   },
   "file_extension": ".py",
   "mimetype": "text/x-python",
   "name": "python",
   "nbconvert_exporter": "python",
   "pygments_lexer": "ipython3",
   "version": "3.8.10"
  }
 },
 "nbformat": 4,
 "nbformat_minor": 5
}
